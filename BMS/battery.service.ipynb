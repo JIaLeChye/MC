{
 "cells": [
  {
   "cell_type": "markdown",
   "metadata": {},
   "source": [
    "# Background Battery Management Service\n",
    "**Full Coding available at [battery.service](battery.service)** \n",
    "<br>\n",
    "This is the documentation for Background Battery Management Service \n"
   ]
  },
  {
   "cell_type": "markdown",
   "metadata": {},
   "source": [
    "## Let's Start Coding !\n",
    "### The `[Unit]` section \n",
    "- In this section the Description of the service can be stated. "
   ]
  },
  {
   "cell_type": "code",
   "execution_count": null,
   "metadata": {},
   "outputs": [],
   "source": [
    "[Unit]\n",
    "Description=Battery Monitoring Script"
   ]
  },
  {
   "cell_type": "markdown",
   "metadata": {},
   "source": [
    "### 2. The `[Servicve]` section\n",
    "- In this section, the `user` that will run the script in background is stated. \n",
    "- The `Working Directory`, the editable working directory will be stated. \n",
    "- `ExecStart`: This line specify the python version and the directory to start the script. \n",
    "- When error encountered, the Script will generate error logs. The Log is then save to a file for future debuging puropse. <br>\n",
    "`StandardError=file:/home/raspberry/battery/battery_error_log.txt`\n",
    "- Other than error, The script will also generate the debug log wich it will be saved to a file. <br>\n",
    "`StandardOutput=file:/home/raspberry/battery/battery_log.txt`"
   ]
  },
  {
   "cell_type": "code",
   "execution_count": null,
   "metadata": {},
   "outputs": [],
   "source": [
    "[Service]\n",
    "User=raspberry\n",
    "WorkingDirectory=/home/raspberry/battery\n",
    "ExecStart=/usr/bin/python /home/raspberry/battery/Battery.py\n",
    "StandardOutput=file:/home/raspberry/battery/battery_log.txt\n",
    "StandardError=file:/home/raspberry/battery/battery_error_log.txt\n",
    "Restart=always\n",
    "\n",
    "[Install]\n",
    "WantedBy=multi-user.target"
   ]
  }
 ],
 "metadata": {
  "language_info": {
   "name": "python"
  }
 },
 "nbformat": 4,
 "nbformat_minor": 2
}
