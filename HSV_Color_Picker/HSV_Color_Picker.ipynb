{
 "cells": [
  {
   "cell_type": "markdown",
   "metadata": {},
   "source": [
    "# HSV Color Pickewr using OpenCV\n",
    "**Full Codiig available at [HSV_Color_Picker.py](HSV_Color_Picker.py)**\n",
    "<br>\n",
    "This is the documantetion for HSV Color Picker \n",
    "\n",
    "***Librarues Used In The Script*** \n",
    "- Picamera2 \n",
    "- libcamera \n",
    "- OpenCV \n",
    "- time \n",
    "- Numpy "
   ]
  },
  {
   "cell_type": "markdown",
   "metadata": {},
   "source": [
    "## Installing Librarues@ Dependencies \n",
    "- Buuild in librarues \n",
    "    - Picamera2 \n",
    "    - libcamera \n",
    "    - time \n",
    "    - Numpy\n",
    "- Used Installing Libraries\n",
    "    - OpenCV"
   ]
  },
  {
   "cell_type": "markdown",
   "metadata": {},
   "source": [
    "## Installing Libraries \n",
    "1. OpenCV [OpenCV.org](https://docs.opencv.org/4.x/d2/de6/tutorial_py_setup_in_ubuntu.html)\n",
    "    - In the terminal type `pip install opencv-python` \n",
    "    - In a Python File type: <br>\n",
    "    `import cv2` <br>\n",
    "    `print(cv2.__version__)`\n",
    "    - The coding above will print the version of opencv library installed  "
   ]
  },
  {
   "cell_type": "markdown",
   "metadata": {},
   "source": [
    "## Let's Start Coding ! \n",
    "### 1. Import the required libraries \n",
    "- OpenCV\n",
    "- Picamera2 \n",
    "- libcamera \n",
    "- time \n",
    "- Numpy"
   ]
  },
  {
   "cell_type": "code",
   "execution_count": null,
   "metadata": {},
   "outputs": [],
   "source": [
    "#finding hsv range of target object(pen)\n",
    "import cv2\n",
    "import numpy as np\n",
    "import time\n",
    "from picamera2 import Picamera2\n",
    "from libcamera import controls"
   ]
  },
  {
   "cell_type": "markdown",
   "metadata": {},
   "source": [
    "### 2. A function tha when nothing happends \n",
    "- All the reackbars are retracted to 0 position "
   ]
  },
  {
   "cell_type": "code",
   "execution_count": null,
   "metadata": {},
   "outputs": [],
   "source": [
    "def nothing(x):\n",
    "    pass"
   ]
  },
  {
   "cell_type": "markdown",
   "metadata": {},
   "source": [
    "### 3. Configure the Camera. \n",
    "\n",
    "- Width: 640 \n",
    "- height:480 \n",
    "- Autofocus: ON **(This function is only available for Raspberry Pi camera Module 3 and above)**"
   ]
  },
  {
   "cell_type": "code",
   "execution_count": null,
   "metadata": {},
   "outputs": [],
   "source": [
    "frame_width = 640 \n",
    "frame_height = 480 \n",
    "cam = Picamera2()\n",
    "cam.configure(cam.create_preview_configuration(main={\"format\": 'XRGB8888', \"size\": (frame_width, frame_height)})) \n",
    "cam.start()\n",
    "cam.set_controls({\"AfMode\":controls.AfModeEnum.Continuous})"
   ]
  },
  {
   "cell_type": "markdown",
   "metadata": {},
   "source": [
    "### 4. Create a Window with Trackbars. \n",
    "- Create a window that holds all the trackbars \n",
    "    ```\n",
    "    cv2.namedWindow(\"Trackbars\")\n",
    "    ```\n",
    "- Create All the trackbars \n",
    "    - L - H (Lower Hue)\n",
    "    - L - S (Lower Saturate)\n",
    "    - L - V (Lower Value)\n",
    "    - U - H (Upper Hue)\n",
    "    - U - S (Upper Saturate)\n",
    "    - U - V (Upper Value)\n",
    "\n",
    "- For the Lower and Upper Hue (L - H and U - H) the maximum value is 179  \n",
    "- For the others, the maximum value is 255\n",
    "- In the Trackbars, use the nothing function to make tham back to 0 position when the programe start. \n",
    "\n",
    "    ```\n",
    "    cv2.createTrackbar(\"L - H\", \"Trackbars\", 0, 179, nothing) \n",
    "    cv2.createTrackbar(\"L - S\", \"Trackbars\", 0, 255, nothing)\n",
    "    cv2.createTrackbar(\"L - V\", \"Trackbars\", 0, 255, nothing)\n",
    "    cv2.createTrackbar(\"U - H\", \"Trackbars\", 179, 179, nothing)\n",
    "    cv2.createTrackbar(\"U - S\", \"Trackbars\", 255, 255, nothing)\n",
    "    cv2.createTrackbar(\"U - V\", \"Trackbars\", 255, 255, nothing)\n",
    "    ```"
   ]
  },
  {
   "cell_type": "code",
   "execution_count": null,
   "metadata": {},
   "outputs": [],
   "source": [
    "cv2.createTrackbar(\"L - H\", \"Trackbars\", 0, 179, nothing)\n",
    "cv2.createTrackbar(\"L - S\", \"Trackbars\", 0, 255, nothing)\n",
    "cv2.createTrackbar(\"L - V\", \"Trackbars\", 0, 255, nothing)\n",
    "cv2.createTrackbar(\"U - H\", \"Trackbars\", 179, 179, nothing)\n",
    "cv2.createTrackbar(\"U - S\", \"Trackbars\", 255, 255, nothing)\n",
    "cv2.createTrackbar(\"U - V\", \"Trackbars\", 255, 255, nothing)"
   ]
  },
  {
   "cell_type": "markdown",
   "metadata": {},
   "source": [
    "### 5. The While True Loop \n",
    "- All the code will keep looping in here \n",
    "    - Get the capture image form the camera \n",
    "     ```\n",
    "     frame = cam.capture_array()\n",
    "     ```\n",
    "    - Convert the color format from RGB to HSV \n",
    "        ```\n",
    "        hsv = cv2.cvtColor(frame, cv2.COLOR_BGR2HSV)\n",
    "        ```\n",
    "    - From the trackbars get all the values (Trackbar Postion) \n",
    "        ```\n",
    "        l_h = cv2.getTrackbarPos(\"L - H\", \"Trackbars\")\n",
    "        l_s = cv2.getTrackbarPos(\"L - S\", \"Trackbars\")\n",
    "        l_v = cv2.getTrackbarPos(\"L - V\", \"Trackbars\")\n",
    "        u_h = cv2.getTrackbarPos(\"U - H\", \"Trackbars\")\n",
    "        u_s = cv2.getTrackbarPos(\"U - S\", \"Trackbars\")\n",
    "        u_v = cv2.getTrackbarPos(\"U - V\", \"Trackbars\")\n",
    "        ```\n",
    "    - Insert the trackbars value to the array \n",
    "        ```\n",
    "        lower_range = np.array([l_h, l_s, l_v])\n",
    "        upper_range = np.array([u_h, u_s, u_v])\n",
    "        ```\n",
    "    - Filter out the color based on the HSV array (range) \n",
    "        ```\n",
    "        mask = cv2.inRange(hsv, lower_range, upper_range)\n",
    "        ```\n",
    "    - Invert the filter (So that we can visualise which object is selected based on the color) \n",
    "        ```\n",
    "        res = cv2.bitwise_and(frame, frame, mask=mask)\n",
    "        ```\n",
    "    - Convert the filtered image to a3 channel image (Contains R, G, and B) \n",
    "        ```\n",
    "        mask_3 = cv2.cvtColor(mask, cv2.COLOR_GRAY2BGR)\n",
    "        ```\n",
    "    - Combine all the result in one window. \n",
    "        ```\n",
    "        stacked = np.hstack((mask_3,frame,res))\n",
    "        ```\n",
    "    - Show all the results and trackbars \n",
    "        ```\n",
    "        cv2.imshow('Trackbars',cv2.resize(stacked,None,fx=0.4,fy=0.4))\n",
    "        ```\n",
    "    - If the user press the Escape key (Esc) the programe will quit \n",
    "        ``` \n",
    "        key = cv2.waitKey(1)\n",
    "        if key == 27:\n",
    "            break\n",
    "        ```\n",
    "    - Save the adjusted value and display it. \n",
    "        ```\n",
    "         if key == ord('s'):\n",
    "            \n",
    "            thearray = [[l_h,l_s,l_v],[u_h, u_s, u_v]]\n",
    "            print(thearray)\n",
    "            \n",
    "            # Also save this array as penval.npy\n",
    "            np.save('hsv_value',thearray)\n",
    "            break\n",
    "        ```"
   ]
  },
  {
   "cell_type": "code",
   "execution_count": null,
   "metadata": {},
   "outputs": [],
   "source": [
    "while True:\n",
    "    \n",
    "    # Start reading the webcam feed frame by frame.\n",
    "    frame = cam.capture_array()\n",
    "    \n",
    "    # Convert the BGR image to HSV image.\n",
    "    hsv = cv2.cvtColor(frame, cv2.COLOR_BGR2HSV)\n",
    "    \n",
    "    # Get the new values of the trackbar in real time as the user changes \n",
    "    # them\n",
    "    l_h = cv2.getTrackbarPos(\"L - H\", \"Trackbars\")\n",
    "    l_s = cv2.getTrackbarPos(\"L - S\", \"Trackbars\")\n",
    "    l_v = cv2.getTrackbarPos(\"L - V\", \"Trackbars\")\n",
    "    u_h = cv2.getTrackbarPos(\"U - H\", \"Trackbars\")\n",
    "    u_s = cv2.getTrackbarPos(\"U - S\", \"Trackbars\")\n",
    "    u_v = cv2.getTrackbarPos(\"U - V\", \"Trackbars\")\n",
    " \n",
    "    # Set the lower and upper HSV range according to the value selected\n",
    "    # by the trackbar\n",
    "    lower_range = np.array([l_h, l_s, l_v])\n",
    "    upper_range = np.array([u_h, u_s, u_v])\n",
    "    \n",
    "    # Filter the image and get the binary mask, where white represents \n",
    "    # your target color\n",
    "    mask = cv2.inRange(hsv, lower_range, upper_range)\n",
    " \n",
    "    # You can also visualize the real part of the target color (Optional)\n",
    "    res = cv2.bitwise_and(frame, frame, mask=mask)\n",
    "    \n",
    "    # Converting the binary mask to 3 channel image, this is just so \n",
    "    # we can stack it with the others\n",
    "    mask_3 = cv2.cvtColor(mask, cv2.COLOR_GRAY2BGR)\n",
    "    \n",
    "    # stack the mask, orginal frame and the filtered result\n",
    "    stacked = np.hstack((mask_3,frame,res))\n",
    "    \n",
    "    # Show this stacked frame at 40% of the size.\n",
    "    cv2.imshow('Trackbars',cv2.resize(stacked,None,fx=0.4,fy=0.4))\n",
    "    \n",
    "    # If the user presses ESC then exit the program\n",
    "    key = cv2.waitKey(1)\n",
    "    if key == 27:\n",
    "        break\n",
    "    \n",
    "    # If the user presses `s` then print this array.\n",
    "    if key == ord('s'):\n",
    "        \n",
    "        thearray = [[l_h,l_s,l_v],[u_h, u_s, u_v]]\n",
    "        print(thearray)\n",
    "        \n",
    "        # Also save this array as penval.npy\n",
    "        np.save('hsv_value',thearray)\n",
    "        break"
   ]
  },
  {
   "cell_type": "markdown",
   "metadata": {},
   "source": [
    "### 6. Wrapping things up \n",
    "- Stop the camra \n",
    "    ```\n",
    "    cam.stop() \n",
    "    ```\n",
    "- Destroy all the windows created by the programe. \n",
    "    ```\n",
    "    cv2.destroyAllWindows()\n",
    "    ```"
   ]
  },
  {
   "cell_type": "code",
   "execution_count": null,
   "metadata": {},
   "outputs": [],
   "source": [
    "cam.stop()\n",
    "cv2.destroyAllWindows()"
   ]
  }
 ],
 "metadata": {
  "language_info": {
   "name": "python"
  }
 },
 "nbformat": 4,
 "nbformat_minor": 2
}
