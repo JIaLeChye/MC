{
 "cells": [
  {
   "cell_type": "markdown",
   "metadata": {},
   "source": [
    "# Motor Encoder \n",
    "**Full Coding At [Motor-Encoder.py](Motor_Encoder.py)** \n",
    "*Library Used* \n",
    "- RPi_GPIO   \n",
    "- adafruit_ssd1306  \n",
    "- board  \n",
    "- time "
   ]
  },
  {
   "cell_type": "code",
   "execution_count": null,
   "metadata": {},
   "outputs": [],
   "source": []
  }
 ],
 "metadata": {
  "language_info": {
   "name": "python"
  }
 },
 "nbformat": 4,
 "nbformat_minor": 2
}
