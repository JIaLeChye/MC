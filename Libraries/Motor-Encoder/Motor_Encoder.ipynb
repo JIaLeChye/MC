{
 "cells": [
  {
   "cell_type": "markdown",
   "metadata": {},
   "source": [
    "# Motor Encoder \n",
    "**Full Coding At [Motor_Encoder.py](Motor_Encoder.py)** <br>\n",
    "- *Library Used* \n",
    "    - RPi_GPIO   \n",
    "    - adafruit_ssd1306  \n",
    "    - board  \n",
    "    - time "
   ]
  },
  {
   "cell_type": "markdown",
   "metadata": {},
   "source": [
    "## Installing Libraries (Dependencies)\n",
    "- adafruit_ssd1306 \n",
    "    - `pip3 install adafruit-circuitpython-ssd1306 `\n",
    "- RPi.GPIO \n",
    "    - `pip install rpi-lgpio` \n",
    "- font5x8.bin *(This File is required as it is the font file for the OLED Diaplay to display Text)*\n",
    "    - `wget https://github.com/adafruit/Adafruit_CircuitPython_framebuf/raw/main/examples/font5x8.bin`"
   ]
  },
  {
   "cell_type": "markdown",
   "metadata": {},
   "source": [
    "## Let's Start Coding ! \n",
    "### 1. Import all the libraries \n",
    "- RPi.GPIO \n",
    "- adafruit_ssd1306 \n",
    "- board\n",
    "- time "
   ]
  },
  {
   "cell_type": "code",
   "execution_count": null,
   "metadata": {},
   "outputs": [],
   "source": [
    "import RPi.GPIO as GPIO \n",
    "import adafruit_ssd1306\n",
    "import board \n",
    "import time\n"
   ]
  },
  {
   "cell_type": "markdown",
   "metadata": {},
   "source": [
    "### 2. Create the Encoder Class\n",
    "**As this Script will be a Library for other script thus a class is needed* \n",
    "- `isinit` <br> \n",
    "    Is used to make sure the library is not being initialise multiple time "
   ]
  },
  {
   "cell_type": "code",
   "execution_count": null,
   "metadata": {},
   "outputs": [],
   "source": [
    "\n",
    "class Encoder:\n",
    "    \"\"\"\n",
    "    Class to handle encoder inputs and display RPM values on an OLED display.\n",
    "    \"\"\"\n",
    "    isinit = False"
   ]
  },
  {
   "cell_type": "markdown",
   "metadata": {},
   "source": [
    "### 3. The ` __init__` function. \n",
    "- The `__init__` function will run when the code is initialise \n",
    "- In default the debug flag is set to false. \n",
    "- `ENCODER_RES` is the resolution(ppr) of the motor encoder. In default is 13ppr \n",
    "- ` Gear Ratio` is set according to the motor rating (1:30) \n",
    "- `LEFT_HALLSEN=11` is the input pin of the left sensor(11)\n",
    "- `RIGHT_HALLSEN=10` is the input of the right sensor(10)\n",
    "- The  `ODISPLAY` is represent the Oled DIsplay. It is set to False in default \n",
    "- The `OLED_addr` is used to defined the i2c address of the oled screen. In default is 0x3c \n",
    "- If the *debug* flag is `True`, then the script will display more function. \n",
    "- In the script, only if the ODISPLAY is `True`, the oled library will be initialise.\n",
    "- This function will check is the Library being initialised before. To prevent error due to double initialisation "
   ]
  },
  {
   "cell_type": "code",
   "execution_count": null,
   "metadata": {},
   "outputs": [],
   "source": [
    "    def __init__(self, debug=False, ENCODER_RES=13, gear_ratio=30, LEFT_HALLSEN=11, RIGHT_HALLSEN=10, ODISPLAY=False, OLED_addr=0x3c):\n",
    "        \"\"\"\n",
    "        Initialize the Encoder object with specified parameters.\n",
    "        \"\"\"\n",
    "        if not Encoder.isinit:\n",
    "            self.debug = debug \n",
    "            self.ODISPLAY = ODISPLAY \n",
    "            self.ENCODER_RES = ENCODER_RES \n",
    "            self.LEFT_HALLSEN = LEFT_HALLSEN\n",
    "            self.RIGHT_HALLSEN = RIGHT_HALLSEN\n",
    "            self.gear_ratio = gear_ratio\n",
    "            self.OLED_addr = OLED_addr \n",
    "            \n",
    "            self.left_enc_val = 0\n",
    "            self.right_enc_val = 0\n",
    "            self.i2c = board.I2C()\n",
    "            self.oled = adafruit_ssd1306.SSD1306_I2C(128, 64, self.i2c, addr=OLED_addr)\n",
    "            \n",
    "            if self.debug:\n",
    "                print(\"Encoder Resolution =\", self.ENCODER_RES)\n",
    "                print(\"Gear Ratio =\", self.gear_ratio)\n",
    "                print(\"Left Hall Sensor Pin =\", self.LEFT_HALLSEN)\n",
    "                print(\"Right Hall Sensor Pin =\", self.RIGHT_HALLSEN)\n",
    "                print(\"OLED Display Enabled =\", self.ODISPLAY)\n",
    "                print(\"OLED address =\", self.OLED_addr)\n",
    "                print(\"Debug Mode Enabled =\", self.debug)\n",
    "                print(\"I2C Initialization Complete -- Motor_Encoder\")\n",
    "                print(\"All values initialized -- Motor_Encoder\")\n",
    "                \n",
    "            if self.ODISPLAY:\n",
    "                self.i2c = board.I2C()\n",
    "                self.oled = adafruit_ssd1306.SSD1306_I2C(128, 64, self.i2c, addr=OLED_addr)\n",
    "                print(\"OLED Display Enabled\")\n",
    "                self.oled.fill(1)\n",
    "                self.oled.show()\n",
    "                self.oled.fill(0)\n",
    "                self.oled.text(\"OLED ENABLED\", 25, 30, 1)\n",
    "                self.oled.show()\n",
    "                time.sleep(1)\n",
    "            Encoder.isinit = True "
   ]
  },
  {
   "cell_type": "markdown",
   "metadata": {},
   "source": [
    "### 4. The `setup` function \n",
    "- This code will **setup all the GPIO pins** to initialise the encoder. \n",
    "\n",
    "- When the function start it will clean all the command to the GPIO pins \n",
    "    ```\n",
    "    GPIO.cleanup()\n",
    "    ``` \n",
    "    - This is to ensure there is no pin conflict when running the script \n",
    "\n",
    "- The Raspberry Pi's General Purpose Input/Output (GPIO) pins can be accessed in two different modes:\n",
    "\n",
    "    - Board Mode: This mode uses the physical pin numbers on the Raspberry Pi board. For example, pin 1 refers to the first pin on the board, pin 2 refers to the second pin, and so on.\n",
    "\n",
    "    - BCM Mode: This mode uses the Broadcom (BCM) chip-specific pin numbers. These numbers refer to the actual GPIO pin numbers defined by the Broadcom SOC (System on Chip).\n",
    "\n",
    "- In this function the GPIO pin are set to the BCM mode. \n",
    "- It also set the pin for the sensor to input mode \n",
    "- To detect the change of the pin signal (from 1 to 0 and 0 to 1) event detection is added. \n",
    "- This process will keep repeating until the edge detection is successfully added to the pins.\n",
    "- If the **debug** flag is **True**, The function will print the GPIO mode and also the repeat count. \n",
    "- When the event detection is failed to add for 3 times. It will prompt an error and stop te script. \n",
    "- If all the setup above is sucess, the OLED Diaplay will show \n",
    "    > Motor Encoder <br>\n",
    "    > Setup Complete \n"
   ]
  },
  {
   "cell_type": "code",
   "execution_count": null,
   "metadata": {},
   "outputs": [],
   "source": [
    "    def setup(self):\n",
    "        \"\"\"\n",
    "        Set up GPIO pins and initialize encoder.\n",
    "        \"\"\"\n",
    "        retry_count = 3\n",
    "        while retry_count > 0:\n",
    "            try:\n",
    "                GPIO.cleanup() # Clean up GPIO\n",
    "                GPIO.setmode(GPIO.BCM) # Set GPIO Mode to BCM\n",
    "                GPIO.setwarnings(False) \n",
    "                GPIO.setup(self.LEFT_HALLSEN, GPIO.IN)\n",
    "                GPIO.setup(self.RIGHT_HALLSEN, GPIO.IN) \n",
    "                if self.debug:\n",
    "                    current_Mode = GPIO.getmode()\n",
    "                    print(\"Current GPIO Mode:\", current_Mode)\n",
    "                    print(f\"Setting up edge detection for pins: LEFT={self.LEFT_HALLSEN}, RIGHT={self.RIGHT_HALLSEN}\")\n",
    "                GPIO.add_event_detect(self.LEFT_HALLSEN, GPIO.BOTH, callback=self.left_update)\n",
    "                GPIO.add_event_detect(self.RIGHT_HALLSEN, GPIO.BOTH, callback=self.right_update)\n",
    "                if self.debug:\n",
    "                    print(\"GPIO edge detection added successfully.\")\n",
    "                break\n",
    "            except RuntimeError as e:\n",
    "                retry_count -= 1\n",
    "                print(f\"Error adding edge detection: {e}. Retries left: {retry_count}\")\n",
    "                time.sleep(1)\n",
    "                GPIO.remove_event_detect(self.LEFT_HALLSEN)\n",
    "                GPIO.remove_event_detect(self.RIGHT_HALLSEN)\n",
    "                GPIO.cleanup()  # Ensure GPIO cleanup before retrying\n",
    "\n",
    "        if retry_count == 0:\n",
    "            print(\"Failed to add edge detection after multiple attempts.\")\n",
    "            raise RuntimeError(\"Failed to add edge detection after multiple attempts.\")\n",
    "\n",
    "        if self.debug:\n",
    "            print(\"GPIO Initialization Complete -- Motor_Encoder\")\n",
    "            \n",
    "        self.left_enc_val = 0\n",
    "        self.right_enc_val = 0 \n",
    "        \n",
    "        if self.ODISPLAY:\n",
    "            self.oled.fill(0)\n",
    "            self.oled.show()\n",
    "            self.oled.text(\"MOTOR ENCODER\", 23, 20, 1)\n",
    "            self.oled.text(\"Setup Complete\", 20, 35, 1)\n",
    "            self.oled.show()\n",
    "            time.sleep(1)"
   ]
  },
  {
   "cell_type": "markdown",
   "metadata": {},
   "source": [
    "## 5. The `encoder` function \n",
    "- This code is used to record and calculate the RPM of the wheels based on the **Gear Ratio** and **Resolution** of the encoder \n",
    "- The calculation of RPM involved time start and time end thus the time library is used to obtained the time.\n",
    "    ```\n",
    "    start_time = time.time()\n",
    "    ``` \n",
    "- The start value (Maybe 0 or 1 depense on the hall effect sensor) is saved in to the left_start_enc_val and right_start_enc_val variables. \n",
    "\n",
    "- After some time of delay (In default is 0.1 second), it will start to obtained the left_end_enc_val and right_end_enc_val in to variables and also the end time. \n",
    "\n",
    "- The pulse count can be calculated by subtracting the end value to the start value (right_end_enc_val - right_start_enc_val). \n",
    "\n",
    "- Other than the pulse count, another paramerter is needed which is the time interval. The tiume interval is obtained by subtracting the end time with the start time. (end_time - satrt_time). \n",
    "\n",
    "- After havimg this two parameters (pulse_count and time interval) we can calculate the RPM of the car using the Formula: \n",
    "    $$\n",
    "     RPM = (Pulse Count /Encoder Resolution(PPR)) * (60/Time Interveral) ​* Gear Ratio\n",
    "    $$\n",
    "    in this script the formula is written as: \n",
    "    ```py\n",
    "    right_rpm = (right_pulse_count * 60) / (time_interval * self.ENCODER_RES) / self.gear_ratio\n",
    "    ```\n",
    "- This function will return the value of left and right rpm  calculated. \n",
    "- If the Oled Diaplay (ODISPLAY) flag is **True**, This function will also used to diaplay the value of calculated RPM on the OLED Display. \n",
    "\n"
   ]
  },
  {
   "cell_type": "code",
   "execution_count": null,
   "metadata": {},
   "outputs": [],
   "source": [
    " def encoder(self, readback_duration=0.1):\n",
    "        \"\"\"\n",
    "        Read encoder values and calculate RPM.\n",
    "        \"\"\"\n",
    "        \n",
    "        start_time = time.time()\n",
    "        left_start_enc_val = self.left_enc_val\n",
    "        right_start_enc_val = self.right_enc_val\n",
    "\n",
    "        time.sleep(readback_duration) \n",
    "        \n",
    "        left_end_enc_val = self.left_enc_val \n",
    "        right_end_enc_val = self.right_enc_val \n",
    "        \n",
    "        end_time = time.time()\n",
    "        \n",
    "        left_pulse_count = left_end_enc_val - left_start_enc_val\n",
    "        right_pulse_count = right_end_enc_val - right_start_enc_val\n",
    "        \n",
    "        time_interval = end_time - start_time\n",
    "        \n",
    "        left_rpm = (left_pulse_count * 60) / (time_interval * self.ENCODER_RES) / self.gear_ratio\n",
    "        right_rpm = (right_pulse_count * 60) / (time_interval * self.ENCODER_RES) / self.gear_ratio\n",
    "\n",
    "        if self.ODISPLAY:\n",
    "            self.oled.fill(0)\n",
    "            self.oled.text(\"Left Motor:\", 1, 10, 1)\n",
    "            self.oled.text(\"{:.2f} rpm\".format(left_rpm), 1, 25, 1)\n",
    "            self.oled.text(\"Right Motor:\", 1, 40, 1)\n",
    "            self.oled.text(\"{:.2f} rpm\".format(right_rpm), 1, 55, 1)\n",
    "            self.oled.show()\n",
    "        \n",
    "        return left_rpm, right_rpm"
   ]
  },
  {
   "cell_type": "markdown",
   "metadata": {},
   "source": [
    "## 6. The `left_update` and `right_update` functions \n",
    "- This function is use to add the pulse count when the event_detector detecteed some change from the GPIO. \n",
    "- When the value of the encoder switch from (0 to 1 or 1 to 0) it will trigger this function to add the pulse count. \n"
   ]
  },
  {
   "cell_type": "code",
   "execution_count": null,
   "metadata": {},
   "outputs": [],
   "source": [
    "    def left_update(self, channel): \n",
    "        \"\"\"\n",
    "        Callback function for left encoder interrupt.\n",
    "        \"\"\"\n",
    "        self.left_enc_val += 1\n",
    "    \n",
    "    def right_update(self, channel): \n",
    "        \"\"\"\n",
    "        Callback function for right encoder interrupt.\n",
    "        \"\"\"\n",
    "        self.right_enc_val += 1 "
   ]
  },
  {
   "cell_type": "markdown",
   "metadata": {},
   "source": [
    "## 7. The `stop` function \n",
    "- This function is called at the last of the code to stop all the process above. \n",
    "- This will clear the GPIO Configuration using \n",
    "    ```\n",
    "    GPIO.cleanup()\n",
    "    ``` \n",
    "- If the OLED Display (ODIAPLAY) flag is **True** this will also clear the Oled display. \n"
   ]
  },
  {
   "cell_type": "code",
   "execution_count": null,
   "metadata": {},
   "outputs": [],
   "source": [
    "    def stop(self):\n",
    "        \"\"\"\n",
    "        Clean up GPIO resources and OLED display.\n",
    "        \"\"\"\n",
    "        GPIO.cleanup() \n",
    "        if self.ODISPLAY:\n",
    "            self.oled.fill(0)\n",
    "            self.oled.show()\n",
    "            self.i2c.deinit()"
   ]
  },
  {
   "cell_type": "markdown",
   "metadata": {},
   "source": [
    "## 8.The `if` statement \n",
    "- As this script will also be used as a customised library, when this script is run alone (Without importing toi the other script) the `__name__` of this script wil be come `__main__` which means the main script run in python \n",
    "- This will start the encoder without starting the motor.\n",
    "- To get value displayed on the OLED screen, kindly turn the Motor. \n",
    "- When the motor turned, the RPM value of the Motor kan be viewed on the terminal and also the OLED Display. \n",
    "- When a keyboard inturuption *(Ctrl + C)* press is detected this will call the script to stop and exit."
   ]
  },
  {
   "cell_type": "code",
   "execution_count": null,
   "metadata": {},
   "outputs": [],
   "source": [
    "if __name__ == '__main__':\n",
    "    enc = Encoder(ODISPLAY=True, debug=True)\n",
    "    try: \n",
    "        while True:\n",
    "            left_rpm, right_rpm = enc.encoder()\n",
    "            print(\"Left Motor: {:.2f}\".format(left_rpm))  \n",
    "            print(\"Right Motor: {:.2f}\".format(right_rpm))\n",
    "            time.sleep(1)\n",
    "    except KeyboardInterrupt:\n",
    "        enc.stop()"
   ]
  }
 ],
 "metadata": {
  "language_info": {
   "name": "python"
  }
 },
 "nbformat": 4,
 "nbformat_minor": 2
}
