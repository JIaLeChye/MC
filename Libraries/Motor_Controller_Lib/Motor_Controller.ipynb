{
 "cells": [
  {
   "cell_type": "markdown",
   "metadata": {},
   "source": [
    "# Motor Controler  \n",
    "**Full Coding At [PCA9685_MC](PCA9685_MC.py)** \n",
    "This is the documentation for PCA9685_MC Library\n",
    "*Library Used*\n",
    "- PCA9685 \n",
    "- time \n",
    "<br>\n",
    "\n"
   ]
  },
  {
   "cell_type": "markdown",
   "metadata": {},
   "source": [
    "## Let's Start Codiing ! \n",
    "### 1. Import all the required Library \n",
    "- PCA9685 (I2C PWM Moule Library)\n",
    "- time "
   ]
  },
  {
   "cell_type": "code",
   "execution_count": null,
   "metadata": {},
   "outputs": [],
   "source": [
    "from PCA9685 import PCA9685 # Library From Servo HAT (using PCA9685 I2C PWM)\n",
    "import time # Import the time Library "
   ]
  },
  {
   "cell_type": "markdown",
   "metadata": {},
   "source": [
    "### 2. The `Motor_Controller` Class\n",
    "- All the functions is created in this class. \n",
    "- The flag `__init_check` is used to make sure the library used is initalised properly. \n",
    "- On the start of the library, the `__init_Check` is set to **False** so that, the code will run the initialise process. "
   ]
  },
  {
   "cell_type": "code",
   "execution_count": null,
   "metadata": {},
   "outputs": [],
   "source": [
    "class Motor_Controller:\n",
    "    # Declare all the Variables \n",
    "    \"\"\"\n",
    "    This Library uses the PCA9685 I2C PWM Module to simulate the PWM Frequency. \n",
    "    Dependency: PCA9685\n",
    "              : Time \n",
    "    \n",
    "    All the Motor Driver is assigned:\n",
    "    F_M1A = 4 (I2C Channel)\n",
    "    F_M1B = 5 (I2C Channel)\n",
    "    F_M2A = 6 (I2C Channel)\n",
    "    F_M2B = 7 (I2C Channel)\n",
    "    B_M1A = 8 (I2C Channel)\n",
    "    B_M1B = 9 (I2C Channel)\n",
    "    B_M2A = 10 (I2C Channel)\n",
    "    B_M2B = 11 (I2C Channel)\n",
    "\n",
    "    **All the Channel Pins is according to the Servo HAT Pinout \n",
    "\n",
    "    /-----Fornt Motor Driver----/\n",
    "    F_M1A:  (Left Motor @ Forward Motion)\n",
    "    F_M1B:  (Left Motor @ Backward Motion)\n",
    "\n",
    "    F_M2A:  (Right Motor @ Forward Motion)\n",
    "    F_M2B:  (Right Motor @ Backward Motion)\n",
    "\n",
    "    /-----Back Motor-----/ \n",
    "    B_M1A: (Left Motor @ Forward Motion)\n",
    "    B_M1B: (Left Motor @ Backward Motion)\n",
    "\n",
    "    B_M2A: (Right Motor @ Forward Motion)\n",
    "    B_M2B: (Right Motor @ Backward Motion)\n",
    "\n",
    "    ** The calculation of the Freq is \n",
    "    FREQ = (Freq/100 * 19999)\n",
    "    \n",
    "\n",
    "    \"\"\"\n",
    "    __init__check = False "
   ]
  },
  {
   "cell_type": "markdown",
   "metadata": {},
   "source": [
    "### 3. The `__init__` function\n",
    "- Python will automtically start the initialisation with the __init__function \n",
    "- The parameters indefault for the Library is\n",
    "    - I2C Address is **0x40** \n",
    "    - PWM Frequency is **50** Hz \n",
    "    - Debug flag is **False**\n",
    "- Set the address for the Servo HAT \n",
    "- Set the PWM Frequency for the Servo HAT \n",
    "- Assign all the channel to all the motor terminal  \n",
    "- Disply debug statement when the debug flag is **True** "
   ]
  },
  {
   "cell_type": "code",
   "execution_count": null,
   "metadata": {},
   "outputs": [],
   "source": [
    "def __init__(self, addr=0x40, PWMFreq=50, debug=False):\n",
    "        \"\"\"\n",
    "        All the Motor Driver is assigned:\n",
    "        :F_M1A = 4 (I2C Channel)\n",
    "        :F_M1B = 5 (I2C Channel)\n",
    "        :F_M2A = 6 (I2C Channel)\n",
    "        :F_M2B = 7 (I2C Channel)\n",
    "        :B_M1A = 8 (I2C Channel)\n",
    "        :B_M1B = 9 (I2C Channel)\n",
    "        :B_M2A = 10 (I2C Channel)\n",
    "        :B_M2B = 11 (I2C Channel)\n",
    "\n",
    "        In default:\n",
    "        :param I2C address = 0x40 \n",
    "        :param PWM Frequency  = 50Hz\n",
    "        :param Debug = False \n",
    "        ++++++++++++++++++++++++\n",
    "        use Motor_Controller(addr=[I2C address], PWMFreq=[PWM Frequency], debug=[True/False])\n",
    "\n",
    "        \"\"\"\n",
    "        if not Motor_Controller.__init__check:\n",
    "        \n",
    "            self.debug = debug \n",
    "            self.addr =  addr \n",
    "            self.PWMFreq = PWMFreq \n",
    "            self.PWM = PCA9685(addr)\n",
    "            self.PWM.setPWMFreq(PWMFreq)\n",
    "\n",
    "            self.F_M1A = 4\n",
    "            self.F_M1B = 5\n",
    "            self.F_M2A = 6\n",
    "            self.F_M2B = 7\n",
    "            self.B_M1A = 8\n",
    "            self.B_M1B = 9\n",
    "            self.B_M2A = 10\n",
    "            self.B_M2B = 11\n",
    "            if self.debug :\n",
    "                print(\"Servo HAT initialise\")\n",
    "                print(\"All Motor Driver is configured\")\n",
    "            \n",
    "            Motor_Controller.__init__check = True \n",
    "        else:\n",
    "            if self.debug:\n",
    "                print(\"Servo HAT is already initialise\")"
   ]
  },
  {
   "cell_type": "markdown",
   "metadata": {},
   "source": [
    "### 4. The `Forward` function \n",
    "- This function will make the car to move forward \n",
    "- The maximum frequency for the library is 100 \n",
    "- Set all the motor to move forward. \n",
    "- Display the debug statement if the debug flag is **True** "
   ]
  },
  {
   "cell_type": "code",
   "execution_count": null,
   "metadata": {},
   "outputs": [],
   "source": [
    " def Forward(self, Freq):\n",
    "        \"\"\"\n",
    "        This function Makes the Motor to Move Forward \n",
    "        Use Motor_Controller(debug=True) to print the value of FREQ \n",
    "        \"\"\"\n",
    "        FREQ = (Freq/100 * 19999)\n",
    "        # Front Motor Driver \n",
    "        self.PWM.setServoPulse(self.F_M1A , FREQ)\n",
    "        self.PWM.setServoPulse(self.F_M1B , 0)\n",
    "        self.PWM.setServoPulse(self.F_M2A , FREQ)\n",
    "        self.PWM.setServoPulse(self.F_M2B , 0)\n",
    "        \n",
    "        #Back Motor Driver\n",
    "        self.PWM.setServoPulse(self.B_M1A, FREQ)\n",
    "        self.PWM.setServoPulse(self.B_M1B, 0)\n",
    "        self.PWM.setServoPulse(self.B_M2A, FREQ)\n",
    "        self.PWM.setServoPulse(self.B_M2B, 0)\n",
    "        if self.debug:\n",
    "            print(f\"Forward Moving: {FREQ}\")"
   ]
  },
  {
   "cell_type": "markdown",
   "metadata": {},
   "source": [
    "### 5. The `Backward` function \n",
    "- This function will command the car to move backward \n",
    "- It wil set all the motor to move backward \n",
    "- It will display the debug statement when the debug flag is **Ture** "
   ]
  },
  {
   "cell_type": "code",
   "execution_count": null,
   "metadata": {},
   "outputs": [],
   "source": [
    "def Backward(self, Freq):\n",
    "        \"\"\"\n",
    "        This function Makes the Motor to Move Backward \n",
    "        Use Motor_Controller(debug=True) to print the value of FREQ \n",
    "        \n",
    "        \"\"\"\n",
    "        \n",
    "        FREQ = (Freq/100 * 19999)\n",
    "        #Front Motor Driver\n",
    "        self.PWM.setServoPulse(self.F_M1A , 0)\n",
    "        self.PWM.setServoPulse(self.F_M1B , FREQ)\n",
    "        self.PWM.setServoPulse(self.F_M2A , 0)\n",
    "        self.PWM.setServoPulse(self.F_M2B , FREQ)\n",
    "        \n",
    "        #Back Motor Driver\n",
    "        self.PWM.setServoPulse(self.B_M1A, 0)\n",
    "        self.PWM.setServoPulse(self.B_M1B, FREQ)\n",
    "        self.PWM.setServoPulse(self.B_M2A, 0)\n",
    "        self.PWM.setServoPulse(self.B_M2B, FREQ)\n",
    "        if self.debug:\n",
    "            print(f\"Backward Moving: {FREQ}\")"
   ]
  },
  {
   "cell_type": "markdown",
   "metadata": {},
   "source": [
    "### 6. The `Brake` function \n",
    "- This function will command the car to stop moving\n",
    "- It wil set all the motor to stop motion \n",
    "- It will set all the PWM Frequency to 0 \n",
    "- It will display the debug statement when the debug flag is **Ture** "
   ]
  },
  {
   "cell_type": "code",
   "execution_count": null,
   "metadata": {},
   "outputs": [],
   "source": [
    "def Brake(self):\n",
    "        \"\"\"\n",
    "        This function Makes the Motor to Stop\n",
    "\n",
    "        Use Motor_Controller(debug=True) to print the status of the Motor \n",
    "\n",
    "\n",
    "        \"\"\"\n",
    "        \n",
    "        #Front Motor Driver\n",
    "        self.PWM.setServoPulse(self.F_M1A , 0)\n",
    "        self.PWM.setServoPulse(self.F_M1B , 0)\n",
    "        self.PWM.setServoPulse(self.F_M2A , 0)\n",
    "        self.PWM.setServoPulse(self.F_M2B , 0)\n",
    "        \n",
    "        #Back Motor Driver\n",
    "        self.PWM.setServoPulse(self.B_M1A, 0)\n",
    "        self.PWM.setServoPulse(self.B_M1B, 0)\n",
    "        self.PWM.setServoPulse(self.B_M2A, 0)\n",
    "        self.PWM.setServoPulse(self.B_M2B, 0)\n",
    "        if self.debug:\n",
    "            print(\"Brake\")\n",
    "            print(\"All Channel are assigned to PWM = 0\")"
   ]
  },
  {
   "cell_type": "markdown",
   "metadata": {},
   "source": [
    "### 7. The `Horizontal_Right` function \n",
    "- This function will command the car to move Horizontaly Right  \n",
    "- It wil set motor to a specific motion \n",
    "<br>\n",
    "<br>\n",
    "<img src=\"Images/Horizontally_Right.png\" alt=\"Horizontally Right Movrmrnt\" height=\"400px\" >\n",
    "<br>\n",
    "- It will display the debug statement when the debug flag is **Ture** "
   ]
  },
  {
   "cell_type": "code",
   "execution_count": null,
   "metadata": {},
   "outputs": [],
   "source": [
    " def Horizontal_Right(self, Freq):\n",
    "        \"\"\"\n",
    "        This function Makes the Motor to Move Horizontal Right \n",
    "        **!!This Function Requires the Omniwheels to work!!**\n",
    "        Use Motor_Controller(debug=True) to print the value of FREQ \n",
    "        \n",
    "        \"\"\"\n",
    "        \n",
    "        FREQ = (Freq/100 * 19999)\n",
    "        self.PWM.setServoPulse(self.F_M1A , 0)\n",
    "        self.PWM.setServoPulse(self.F_M1B , FREQ)\n",
    "        self.PWM.setServoPulse(self.F_M2A , FREQ)\n",
    "        self.PWM.setServoPulse(self.F_M2B , 0)\n",
    "        \n",
    "\n",
    "        \n",
    "        #Back Motor Driver\n",
    "        self.PWM.setServoPulse(self.B_M1A, FREQ)\n",
    "        self.PWM.setServoPulse(self.B_M1B, 0)\n",
    "        self.PWM.setServoPulse(self.B_M2A, 0)\n",
    "        self.PWM.setServoPulse(self.B_M2B, FREQ)\n",
    "        if self.debug:\n",
    "            print(f\"Horizontal Right Moving: {FREQ}\")"
   ]
  },
  {
   "cell_type": "markdown",
   "metadata": {},
   "source": [
    "### 8. The `Horizontal_Left` function \n",
    "- This function will comnd the car to move Horizontaly Left  \n",
    "- It wil set motor to a specific motion \n",
    "<br>\n",
    "<br>\n",
    "<img src=\"Images/Horizontally_Left.png\" alt=\"Horizontally Right Movrmrnt\" height=\"400px\" >\n",
    "<br>\n",
    "- It will display the debug statement when the debug flag is **Ture** "
   ]
  },
  {
   "cell_type": "code",
   "execution_count": null,
   "metadata": {},
   "outputs": [],
   "source": [
    "def Horizontal_Left(self, Freq):\n",
    "        \n",
    "        \"\"\"\n",
    "        This function Makes the Motor to Move Horizontal Left \n",
    "        **!! This Function Requires Omniwheels to work**!! \n",
    "        Use Motor_Controller(debug=True) to print the value of FREQ \n",
    "        \n",
    "        \"\"\"\n",
    "        \n",
    "        \n",
    "        FREQ = (Freq/100 * 19999)\n",
    "        self.PWM.setServoPulse(self.F_M1A , FREQ)\n",
    "        self.PWM.setServoPulse(self.F_M1B , 0)\n",
    "        self.PWM.setServoPulse(self.F_M2A , 0)\n",
    "        self.PWM.setServoPulse(self.F_M2B , FREQ)\n",
    "        \n",
    "        #Back Motor Driver\n",
    "        self.PWM.setServoPulse(self.B_M1A, 0)\n",
    "        self.PWM.setServoPulse(self.B_M1B, FREQ)\n",
    "        self.PWM.setServoPulse(self.B_M2A, FREQ)\n",
    "        self.PWM.setServoPulse(self.B_M2B, 0)\n",
    "        if self.debug:\n",
    "            print(f\"Horizontal Left Moving: {FREQ}\")\n"
   ]
  },
  {
   "cell_type": "markdown",
   "metadata": {},
   "source": [
    "### 9. The `AntiClock_Rotate` function \n",
    "- This function will comnd the car to Rotate Anti-Clockwise (Left)   \n",
    "- It wil set motor to a specific motion \n",
    "<br>\n",
    "<br>\n",
    "<img src=\"Images/Anti_Clockwise.png\" alt=\"Horizontally Right Movrmrnt\" height=\"400px\" >\n",
    "<br>\n",
    "- It will display the debug statement when the debug flag is **Ture** "
   ]
  },
  {
   "cell_type": "code",
   "execution_count": null,
   "metadata": {},
   "outputs": [],
   "source": [
    "def AntiClock_Rotate(self, Freq):\n",
    "        \"\"\"\n",
    "        This function Makes the Car to Rotate Anti-clockwise\n",
    "        Use Motor_Controller(debug=True) to print the value of FREQ \n",
    "        \n",
    "        \"\"\"\n",
    "        \n",
    "        FREQ = (Freq/100 * 19999)\n",
    "        self.PWM.setServoPulse(self.F_M1A , FREQ)\n",
    "        self.PWM.setServoPulse(self.F_M1B , 0)\n",
    "        self.PWM.setServoPulse(self.F_M2A , 0)\n",
    "        self.PWM.setServoPulse(self.F_M2B , FREQ)\n",
    "        \n",
    "        #Back Motor Driver\n",
    "        self.PWM.setServoPulse(self.B_M1A, FREQ)\n",
    "        self.PWM.setServoPulse(self.B_M1B, 0)\n",
    "        self.PWM.setServoPulse(self.B_M2A, 0)\n",
    "        self.PWM.setServoPulse(self.B_M2B, FREQ)\n",
    "        if self.debug:\n",
    "            print(f\"Anti-Clockwise Rotation Moving: {FREQ}\")"
   ]
  },
  {
   "cell_type": "markdown",
   "metadata": {},
   "source": [
    "### 10. The `Clock-Rotate` function \n",
    "- This function will comnd the car to Rotate Clockwise (Right)   \n",
    "- It wil set motor to a specific motion \n",
    "<br>\n",
    "<br>\n",
    "<img src=\"Images/Clockwise.png\" alt=\"Horizontally Right Movrmrnt\" height=\"400px\" >\n",
    "<br>\n",
    "- It will display the debug statement when the debug flag is **Ture** "
   ]
  },
  {
   "cell_type": "code",
   "execution_count": null,
   "metadata": {},
   "outputs": [],
   "source": [
    " def Clock_Rotate(self, Freq):\n",
    "        \n",
    "        \"\"\"\n",
    "        This function Makes the Motor to Rotate Clockwise\n",
    "        Use Motor_Controller(debug=True) to print the value of FREQ \n",
    "        \n",
    "        \"\"\"\n",
    "        FREQ = (Freq/100 * 19999)\n",
    "        self.PWM.setServoPulse(self.F_M1A , 0)\n",
    "        self.PWM.setServoPulse(self.F_M1B , FREQ)\n",
    "        self.PWM.setServoPulse(self.F_M2A , FREQ)\n",
    "        self.PWM.setServoPulse(self.F_M2B , 0)\n",
    "        \n",
    "        #Back Motor Driver\n",
    "        self.PWM.setServoPulse(self.B_M1A, 0)\n",
    "        self.PWM.setServoPulse(self.B_M1B, FREQ)\n",
    "        self.PWM.setServoPulse(self.B_M2A, FREQ)\n",
    "        self.PWM.setServoPulse(self.B_M2B, 0)\n",
    "        if self.debug:\n",
    "            print(f\"Clockwise Rotation Moving: {FREQ}\")\n",
    "    "
   ]
  },
  {
   "cell_type": "markdown",
   "metadata": {},
   "source": [
    "### 11. The `servoPulse` function \n",
    "- This function will set the PWM Frequency for other channel that is not used by the Motor. \n",
    "- It is recomended using this function other than calling PCA9685 Library again as this will cause repeat initialisatioin and error. \n",
    "- The parameters of this function is \n",
    "    - Channel (Servo Channel)\n",
    "    - Frequency "
   ]
  },
  {
   "cell_type": "code",
   "execution_count": null,
   "metadata": {},
   "outputs": [],
   "source": [
    "def servoPulse(self, channel, Freq):\n",
    "\n",
    "        \"\"\"\n",
    "        This function sets the servo position\n",
    "        Use Motor_Controller(debug=True) to print the value of FREQ and the Channel. \n",
    "        \n",
    "        \"\"\"\n",
    "\n",
    "        self.PWM.setServoPulse(channel, Freq)\n",
    "\n",
    "        if self.debug:\n",
    "            print(f\"Servo Pulse at {Freq}\")\n",
    "            print(f\"The Servo Channel is {channel}\")\n"
   ]
  },
  {
   "cell_type": "markdown",
   "metadata": {},
   "source": [
    "### 12. The Demo Code\n",
    "- The code willdemo how to use the Motor_Controller Library \n",
    "- It will display all the motor motion function. "
   ]
  },
  {
   "cell_type": "code",
   "execution_count": null,
   "metadata": {},
   "outputs": [],
   "source": [
    "if __name__ == '__main__':\n",
    "    \"\"\"\n",
    "    This is the Demo Code of this Library \n",
    "    The Horizontal Movement Requires Omniwheels \n",
    "    Run this library directly to try on it ! \n",
    "    Adjust the Freq for faster @ Slower Speed. \n",
    "    \"\"\"\n",
    "    try:\n",
    "        Motor = Motor_Controller()\n",
    "        Freq = 20\n",
    "        while True:\n",
    "            Motor.AntiClock_Rotate(Freq)\n",
    "            time.sleep(3)\n",
    "            Motor.Brake()\n",
    "            time.sleep(2)\n",
    "            Motor.Backward(Freq)\n",
    "            time.sleep(3)\n",
    "            Motor.Brake()\n",
    "            time.sleep(2)\n",
    "            Motor.Horizontal_Left(Freq)\n",
    "            time.sleep(3)\n",
    "            Motor.Brake()\n",
    "            time.sleep(2)\n",
    "            print(f\"Motor Runing: {Freq}\")\n",
    "\n",
    "    except KeyboardInterrupt:\n",
    "        Motor.Brake()\n",
    "    except Exception as e:\n",
    "        print(\"Error Accour:\", e)\n",
    "        Motor.Brake()\n",
    "            "
   ]
  }
 ],
 "metadata": {
  "language_info": {
   "name": "python"
  }
 },
 "nbformat": 4,
 "nbformat_minor": 2
}
