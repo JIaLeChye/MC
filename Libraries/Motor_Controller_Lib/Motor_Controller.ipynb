{
 "cells": [
  {
   "cell_type": "markdown",
   "metadata": {},
   "source": [
    "# Motor Controler  \n",
    "**Full Coding At [PCA9685_MC](PCA9685.py)** \n",
    "*Library Used* \n",
    "- PCA9685 \n",
    "- time \n",
    "<br>\n",
    "\n"
   ]
  },
  {
   "cell_type": "code",
   "execution_count": null,
   "metadata": {},
   "outputs": [],
   "source": []
  }
 ],
 "metadata": {
  "language_info": {
   "name": "python"
  }
 },
 "nbformat": 4,
 "nbformat_minor": 2
}
