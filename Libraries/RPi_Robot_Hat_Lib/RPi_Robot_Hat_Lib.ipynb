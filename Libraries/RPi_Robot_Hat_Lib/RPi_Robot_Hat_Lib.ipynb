{
 "cells": [
  {
   "cell_type": "markdown",
   "metadata": {},
   "source": [
    "# RPi Robot Hat library\n",
    "**Full Coding At [Ultrasonic_sens.py](Ultrasonic_sens.py)** \n",
    "- *Library Used* \n",
    "    - RPi_GPIO   \n",
    "    - time "
   ]
  },
  {
   "cell_type": "markdown",
   "metadata": {},
   "source": [
    "## Installing Libraries (Dependencies)\n",
    "- RPi.GPIO \n",
    "    - `pip install rpi-lgpio` "
   ]
  },
  {
   "cell_type": "markdown",
   "metadata": {},
   "source": [
    "## Let's Start Coding ! \n",
    "### 1. Import all the libraries \n",
    "- RPi.GPIO \n",
    "- time "
   ]
  },
  {
   "cell_type": "code",
   "execution_count": null,
   "metadata": {},
   "outputs": [],
   "source": [
    "import RPi.GPIO as GPIO\n",
    "import time"
   ]
  },
  {
   "cell_type": "markdown",
   "metadata": {},
   "source": [
    "### 2. Create the Ultrasonic Class\n",
    "**As this Script will be a Library for other script thus a class is needed* \n",
    "- `__init_check` <br> \n",
    "    Is used to make sure the library is not being initialise multiple time \n",
    "- `SOUND_SPEED` <br>\n",
    "    Is the speed of sound in cm/s. In default the value is *34300*"
   ]
  },
  {
   "cell_type": "code",
   "execution_count": null,
   "metadata": {},
   "outputs": [],
   "source": [
    "class Ultrasonic:\n",
    "    \"\"\"\n",
    "    Class to represent an ultrasonic sensor.\n",
    "    \"\"\"\n",
    "    __init_check = False \n",
    "    SOUND_SPEED = 34300  # Speed of sound in cm/s"
   ]
  },
  {
   "cell_type": "markdown",
   "metadata": {},
   "source": [
    "### 3. The `__init__` function \n",
    "- The `__init__` function will run when the code is initialise \n",
    "- This function is used to intiakise the sensor and also GPIO Pins. \n",
    "- This function will also holds and intialise a few parameters.\n",
    "    - `Left_sensor`: The Pin number for the Left Ultrasonic sensor \n",
    "    - `Front_sensor`: The Pin number for the front Ultrasonic sensor\n",
    "    - `Right_sensor`: The Pin Number for the Right ultrasonic sensor \n",
    "    - `debug`: The debug flag. **False** in default. \n",
    "- When the function is called, it will check the initialisation state first. \n",
    "    ```python \n",
    "    if not Ultrasonic.__init_check:\n",
    "    ```\n",
    "    - Initialation process will start if the `__init_check` is **False** \n",
    "        - Set the GPIO mode to BCM Mode \n",
    "            ```python \n",
    "            GPIO.setmode(GPIO.BCM)\n",
    "            ```\n",
    "        - Set the GPIO Pin to OUTPUT mode \n",
    "            ```python\n",
    "            GPIO.setup(Left_sensor, GPIO.OUT)\n",
    "            GPIO.setup(Front_sensor, GPIO.OUT)\n",
    "            GPIO.setup(Right_sensor, GPIO.OUT)\n",
    "            ```\n",
    "        - Set initialation state to **True**\n",
    "    - If the `__init_check` is **True**, it will skip the initialation proces"
   ]
  },
  {
   "cell_type": "code",
   "execution_count": null,
   "metadata": {},
   "outputs": [],
   "source": [
    "def __init__(self, Left_sensor=5, Front_sensor=16, Right_sensor = 18, debug=False):\n",
    "        \"\"\"\n",
    "        Initializes GPIO pins for the ultrasonic sensors.\n",
    "        :param Left_sensor: Left sensor GPIO pin (default 5)\n",
    "        :param Front_sensor: Front sensor GPIO pin (default 16)\n",
    "        :param Right_sensor: Right sensor GPIO pin (default 18)\n",
    "        :param debug: Enable debug mode (default False)\n",
    "        \"\"\"\n",
    "        if not Ultrasonic.__init_check:\n",
    "            \n",
    "            self.Left_sensor = Left_sensor\n",
    "            self.Front_sensor = Front_sensor  \n",
    "            self.Right_sensor = Right_sensor\n",
    "            self.debug = debug\n",
    "\n",
    "            GPIO.setmode(GPIO.BCM)\n",
    "            GPIO.setup(Left_sensor, GPIO.OUT)\n",
    "            GPIO.setup(Front_sensor, GPIO.OUT)\n",
    "            GPIO.setup(Right_sensor, GPIO.OUT)\n",
    "            if self.debug:\n",
    "                print(\"Ultrasonic sensor initialized.\")\n",
    "            Ultrasonic.__init_check = True\n",
    "        else:\n",
    "            if self.debug: \n",
    "                print(\"Ultrasonic sensor already initialized.\")\n",
    "            pass"
   ]
  },
  {
   "cell_type": "markdown",
   "metadata": {},
   "source": [
    "### 4. The `send_trigger_pulse` function \n",
    "- This function will trigger the Ultrasonic Ranger to send a pulse \n",
    "- To trigger the ultrasonic ranger, Triger the signal pin to True (HIGH)\n",
    "    ```python \n",
    "    GPIO.output(pin, True)\n",
    "    ```\n",
    "- Wait for 10 milisecond \n",
    "    ```python \n",
    "    time.sleep(0.001)\n",
    "    ```\n",
    "- End the trigger by setting the GPIO Out to False (LOW)\n",
    "    ```python\n",
    "    GPIO.output(pin, False)\n",
    "    ```"
   ]
  },
  {
   "cell_type": "code",
   "execution_count": null,
   "metadata": {},
   "outputs": [],
   "source": [
    "    def send_trigger_pulse(self, pin):\n",
    "        \"\"\"\n",
    "        Sends a 10 microsecond high pulse on the specified pin to trigger the sensor.\n",
    "        \"\"\"\n",
    "        GPIO.output(pin, True)\n",
    "        time.sleep(0.001) \n",
    "        GPIO.output(pin, False)\n",
    "        if self.debug:\n",
    "            print(f\"Trigger Sent{pin}\")\n"
   ]
  },
  {
   "cell_type": "markdown",
   "metadata": {},
   "source": [
    "### 5. The `wait_for_echo` function \n",
    "- This function is used to recive the echo send by the ultrasonic \n",
    "- The function will set the GPIO pin to INPUT mode\n",
    "    ```python \n",
    "    GPIO.setup(pin, GPIO.IN)\n",
    "    ``` \n",
    "- Set the timeout duration \n",
    "    ```python\n",
    "    timeout = 0.01\n",
    "    ```\n",
    "\n",
    "- Obtain the starting time \n",
    "    ```python\n",
    "    'Initial_Time' = time.time()\n",
    "    ``` \n",
    "- Detect is the signal recived by the sensor \n",
    "    - When signal is not recived, the GPIO is 0 \n",
    "    \n",
    "        ```python\n",
    "        while GPIO.input(pin) == 0:\n",
    "            if time.time() - Initial_Time >= timeout:\n",
    "                if self.debug:\n",
    "                    print(\"Time Out: No rising edge detected.\")\n",
    "                return None  \n",
    "        ```\n",
    "    - Obtain the pulse start time \n",
    "        ```python \n",
    "        pulse_start = time.time()\n",
    "        ```\n",
    "    - When the pin recive a signal, Obtain the end time \n",
    "        ```python \n",
    "        while GPIO.input(pin) == 1:\n",
    "         pulse_end = time.time()\n",
    "         if self.debug:\n",
    "             print(\"Echo received\")\n",
    "        ```\n",
    "\n",
    "    - Calculate the pulse duration\n",
    "        - The duration can be calculated using the formula **Pulse_End - Pulse_Star = Pulse_Duration** \n",
    "        ```python\n",
    "        pulse_duration = pulse_end - pulse_start\n",
    "        ```\n",
    "    \n",
    "    - Return the pulse_duration as the result \n",
    "        ```python\n",
    "        return pulse_duration\n",
    "        ```"
   ]
  },
  {
   "cell_type": "code",
   "execution_count": null,
   "metadata": {},
   "outputs": [],
   "source": [
    "def wait_for_echo(self, pin):\n",
    "        \"\"\"\n",
    "        Waits for a rising edge on the echo pin (specified pin) and measures the pulse duration.\n",
    "        \"\"\"\n",
    "        GPIO.setup(pin, GPIO.IN)\n",
    "        timeout = 0.01  # Timeout set to 10 milliseconds\n",
    "        \n",
    "        Initial_Time = time.time()\n",
    "        \n",
    "        # Wait for the rising edge\n",
    "        while GPIO.input(pin) == 0:\n",
    "            if time.time() - Initial_Time >= timeout:\n",
    "                if self.debug:\n",
    "                    print(\"Time Out: No rising edge detected.\")\n",
    "                return None  # Return None if no rising edge is detected within timeout\n",
    "        \n",
    "       \n",
    "        pulse_start = time.time()\n",
    "        # Measure the pulse duration\n",
    "        while GPIO.input(pin) == 1:\n",
    "            pulse_end = time.time()\n",
    "            if self.debug:\n",
    "                print(\"Echo received\")\n",
    "        \n",
    "        # Calculate and return the pulse duration\n",
    "        pulse_duration = pulse_end - pulse_start\n",
    "        return pulse_duration\n"
   ]
  },
  {
   "cell_type": "markdown",
   "metadata": {},
   "source": [
    "### 6. The `get_distance` function \n",
    "- This fucntion will calculate the distance from the obstacle \n",
    "- Set the pin to OUTPUT to send the trigger pulse \n",
    "    ```python \n",
    "    GPIO.setup(pin, GPIO.OUT)\n",
    "    self.send_trigger_pulse(pin)\n",
    "    ```\n",
    "- Get the pulse duration from the `wait_for_echo` function  \n",
    "    ```python\n",
    "    pulse_duration = self.wait_for_echo(pin)\n",
    "    ```\n",
    "- Makesure the value of the pulse_duration is not **None** \n",
    "    - If the pulse_duration is  **None**\n",
    "    - Send the pulse again \n",
    "        ```python\n",
    "        if pulse_duration is None:\n",
    "                GPIO.setup(pin, GPIO.OUT)\n",
    "                self.send_trigger_pulse(pin)\n",
    "                print(\"Error: No echo received. Retrying...\")\n",
    "                time.sleep(0.1)\n",
    "                self.send_trigger_pulse(pin)  # Retry sending trigger pulse\n",
    "                pulse_duration = self.wait_for_echo(pin)  # Wait for echo again\n",
    "                return None \n",
    "        ```\n",
    "    - Else (If the pulse_duration is **NOT None**) \n",
    "    - Calculate the distance using the formula \n",
    "        $$\n",
    "        distance = \\frac {(pulse duration * Speed of sound)} {2} \n",
    "        $$\n",
    "        ```python\n",
    "        else: \n",
    "            distance = (pulse_duration * self.SOUND_SPEED) / 2\n",
    "        ```\n"
   ]
  },
  {
   "cell_type": "code",
   "execution_count": null,
   "metadata": {},
   "outputs": [],
   "source": [
    "    def get_distance(self, pin):\n",
    "        \"\"\"\n",
    "        Measures distance using the ultrasonic sensor connected to the specified pin and returns the calculated value.\n",
    "        \"\"\"\n",
    "        GPIO.setup(pin, GPIO.OUT)\n",
    "        self.send_trigger_pulse(pin)\n",
    "\n",
    "        pulse_duration = self.wait_for_echo(pin)\n",
    "\n",
    "        if pulse_duration is None:\n",
    "            GPIO.setup(pin, GPIO.OUT)\n",
    "            self.send_trigger_pulse(pin)\n",
    "            print(\"Error: No echo received. Retrying...\")\n",
    "            time.sleep(0.1)\n",
    "            self.send_trigger_pulse(pin)  # Retry sending trigger pulse\n",
    "            pulse_duration = self.wait_for_echo(pin)  # Wait for echo again\n",
    "            return None \n",
    "        else: \n",
    "            distance = (pulse_duration * self.SOUND_SPEED) / 2\n",
    "\n",
    "        if self.debug:\n",
    "            print(f\"Distance: {distance} cm for pin {pin}\")\n",
    "        return distance"
   ]
  },
  {
   "cell_type": "markdown",
   "metadata": {},
   "source": [
    "### 7. The `distances` function \n",
    "- This function will obtain all the distance from the Left, Front and Right sensor \n",
    "- The value of all the sensor is obtained uisng the `get_distance` function \n",
    "- The result will be return with the sequence \n",
    "    - **Left, Front, Right**  "
   ]
  },
  {
   "cell_type": "code",
   "execution_count": null,
   "metadata": {},
   "outputs": [],
   "source": [
    "def distances(self):\n",
    "        \"\"\"\n",
    "        Get the distance measurement form the left, front and right sensor \n",
    "        \"\"\"\n",
    "        Left = self.get_distance(self.Left_sensor)\n",
    "        Front = self.get_distance(self.Front_sensor)\n",
    "        Right = self.get_distance(self.Right_sensor)\n",
    "        if self.debug:\n",
    "            print(f\"Left: {Left}, Front: {Front}, Right:{Right}\")\n",
    "        return Left, Front, Right"
   ]
  },
  {
   "cell_type": "markdown",
   "metadata": {},
   "source": [
    "### 8. The `cleanup` function \n",
    "- This function is used at the end of the code \n",
    "- It will release all the Pins and unassigned them \n"
   ]
  },
  {
   "cell_type": "code",
   "execution_count": null,
   "metadata": {},
   "outputs": [],
   "source": [
    "    def cleanup(self):\n",
    "        \"\"\"\n",
    "        Cleans up GPIO pins\n",
    "        \"\"\"\n",
    "        if self.debug:\n",
    "            print(\"Cleaning up GPIO pins...\")\n",
    "        GPIO.cleanup()"
   ]
  },
  {
   "cell_type": "markdown",
   "metadata": {},
   "source": [
    "### 9. The Test Code \n",
    "- If this script is run individually, the code bellow will start \n",
    "- This is also an example to how to use this Library \n",
    "<br>\n",
    "<br>\n",
    "****To Test the code Run the [Ultrasonic_sens.py](Ultrasonic_sens.py)***"
   ]
  },
  {
   "cell_type": "code",
   "execution_count": null,
   "metadata": {},
   "outputs": [],
   "source": [
    "if __name__ == \"__main__\":\n",
    "    try:\n",
    "        ultrasonic = Ultrasonic(debug=True)\n",
    "        while True: \n",
    "            Left, Front, Right = ultrasonic.distances()\n",
    "            if (Left and Front and Right) is not None: \n",
    "                print(\"Left: {:.2f} cm\".format(Left))\n",
    "                print(\"Front: {:.2f} cm\".format(Front))\n",
    "                print(\"Right: {:.2f} cm\".format(Right))\n",
    "                time.sleep(1)\n",
    "                print(\" \")\n",
    "    except KeyboardInterrupt:\n",
    "        ultrasonic.cleanup()\n",
    "        print(\"Exiting...\")"
   ]
  }
 ],
 "metadata": {
  "language_info": {
   "name": "python"
  }
 },
 "nbformat": 4,
 "nbformat_minor": 2
}
