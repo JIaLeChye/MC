{
 "cells": [
  {
   "cell_type": "markdown",
   "metadata": {},
   "source": [
    "# Ultrasonic Ranger \n",
    "**Full Coding At [Ultrasonic_sens.py](Ultrasonic_sens.py)** \n",
    "- *Library Used* \n",
    "    - RPi_GPIO   \n",
    "    - time "
   ]
  },
  {
   "cell_type": "markdown",
   "metadata": {},
   "source": [
    "## Installing Libraries (Dependencies)\n",
    "- RPi.GPIO \n",
    "    - `pip install rpi-lgpio` "
   ]
  },
  {
   "cell_type": "markdown",
   "metadata": {},
   "source": [
    "## Let's Start Coding ! \n",
    "### 1. Import all the libraries \n",
    "- RPi.GPIO \n",
    "- time "
   ]
  },
  {
   "cell_type": "code",
   "execution_count": null,
   "metadata": {},
   "outputs": [],
   "source": [
    "import RPi.GPIO as GPIO\n",
    "import time"
   ]
  },
  {
   "cell_type": "markdown",
   "metadata": {},
   "source": [
    "### 2. Create the Ultrasonic Class\n",
    "**As this Script will be a Library for other script thus a class is needed* \n",
    "- `__init_check` <br> \n",
    "    Is used to make sure the library is not being initialise multiple time \n",
    "- `SOUND_SPEED` <br>\n",
    "    Is the speed of sound in cm/s. In default the value is *34300*"
   ]
  },
  {
   "cell_type": "code",
   "execution_count": null,
   "metadata": {},
   "outputs": [],
   "source": [
    "class Ultrasonic:\n",
    "    \"\"\"\n",
    "    Class to represent an ultrasonic sensor.\n",
    "    \"\"\"\n",
    "    __init_check = False \n",
    "    SOUND_SPEED = 34300  # Speed of sound in cm/s"
   ]
  },
  {
   "cell_type": "markdown",
   "metadata": {},
   "source": [
    "### 3. The `__init__` function \n",
    "- The `__init__` function will run when the code is initialise \n",
    "- This function is used to intiakise the sensor and also GPIO Pins. \n",
    "- This function will also holds and intialise a few parameters.\n",
    "    - `Left_sensor`: The Pin number for the Left Ultrasonic sensor \n",
    "    - `Front_sensor`: The Pin number for the front Ultrasonic sensor\n",
    "    - `Right_sensor`: The Pin Number for the Right ultrasonic sensor \n",
    "    - `debug`: The debug flag. **False** in default. \n",
    "- When the function is called, it will check the initialisation state first. \n",
    "    ```python \n",
    "    if not Ultrasonic.__init_check:\n",
    "    ```\n",
    "    - Initialation process will start if the `__init_check` is **False** \n",
    "        - Set the GPIO mode to BCM Mode \n",
    "            ```python \n",
    "            GPIO.setmode(GPIO.BCM)\n",
    "            ```\n",
    "        - Set the GPIO Pin to OUTPUT mode \n",
    "            ```python\n",
    "            GPIO.setup(Left_sensor, GPIO.OUT)\n",
    "            GPIO.setup(Front_sensor, GPIO.OUT)\n",
    "            GPIO.setup(Right_sensor, GPIO.OUT)\n",
    "            ```\n",
    "        - Set initialation state to **True**\n",
    "    - If the `__init_check` is **True**, it will skip the initialation proces"
   ]
  },
  {
   "cell_type": "code",
   "execution_count": null,
   "metadata": {},
   "outputs": [],
   "source": [
    "def __init__(self, Left_sensor=5, Front_sensor=16, Right_sensor = 18, debug=False):\n",
    "        \"\"\"\n",
    "        Initializes GPIO pins for the ultrasonic sensors.\n",
    "        :param Left_sensor: Left sensor GPIO pin (default 5)\n",
    "        :param Front_sensor: Front sensor GPIO pin (default 16)\n",
    "        :param Right_sensor: Right sensor GPIO pin (default 18)\n",
    "        :param debug: Enable debug mode (default False)\n",
    "        \"\"\"\n",
    "        if not Ultrasonic.__init_check:\n",
    "            \n",
    "            self.Left_sensor = Left_sensor\n",
    "            self.Front_sensor = Front_sensor  \n",
    "            self.Right_sensor = Right_sensor\n",
    "            self.debug = debug\n",
    "\n",
    "            GPIO.setmode(GPIO.BCM)\n",
    "            GPIO.setup(Left_sensor, GPIO.OUT)\n",
    "            GPIO.setup(Front_sensor, GPIO.OUT)\n",
    "            GPIO.setup(Right_sensor, GPIO.OUT)\n",
    "            if self.debug:\n",
    "                print(\"Ultrasonic sensor initialized.\")\n",
    "            Ultrasonic.__init_check = True\n",
    "        else:\n",
    "            if self.debug: \n",
    "                print(\"Ultrasonic sensor already initialized.\")\n",
    "            pass"
   ]
  },
  {
   "cell_type": "markdown",
   "metadata": {},
   "source": [
    "### 4. The `send_trigger_pulse` function \n",
    "- This function will trigger the Ultrasonic Ranger to send a pulse \n",
    "- To trigger the ultrasonic ranger, Triger the signal pin to True (HIGH)\n",
    "    ```python \n",
    "    GPIO.output(pin, True)\n",
    "    ```\n",
    "- Wait for 10 milisecond \n",
    "    ```python \n",
    "    time.sleep(0.001)\n",
    "    ```\n",
    "- End the trigger by setting the GPIO Out to False (LOW)\n",
    "    ```python\n",
    "    GPIO.output(pin, False)\n",
    "    ```"
   ]
  },
  {
   "cell_type": "code",
   "execution_count": null,
   "metadata": {},
   "outputs": [],
   "source": [
    "    def send_trigger_pulse(self, pin):\n",
    "        \"\"\"\n",
    "        Sends a 10 microsecond high pulse on the specified pin to trigger the sensor.\n",
    "        \"\"\"\n",
    "        GPIO.output(pin, True)\n",
    "        time.sleep(0.001) \n",
    "        GPIO.output(pin, False)\n",
    "        if self.debug:\n",
    "            print(f\"Trigger Sent{pin}\")\n"
   ]
  },
  {
   "cell_type": "markdown",
   "metadata": {},
   "source": [
    "5. The `wait_for_echo` function \n",
    "- This function is used to recive the echo send by the ultrasonic \n",
    "- The function will set the GPIO pin to INPUT mode\n",
    "    ```python \n",
    "    GPIO.setup(pin, GPIO.IN)\n",
    "    ``` \n",
    "- obtain the starting time \n",
    "    ```python\n",
    "    pulse_start = time.time()\n",
    "    ``` \n",
    "- set the timeout duration \n",
    "    ```python\n",
    "    timeout = 0.01\n",
    "    ```\n",
    "- Detect is the signal recived by the sensor \n",
    "    - When signal is not recived, the GPIO is 0 \n",
    "        ```pyhton\n",
    "        while GPIO.input(pin) == 0 and time.time() - Initial_Time < timeout:\n",
    "            pulse_start = time.time()\n",
    "            if self.debug:\n",
    "                print(\"Waiting for echo...\")\n",
    "        ```\n",
    "    - "
   ]
  },
  {
   "cell_type": "code",
   "execution_count": null,
   "metadata": {},
   "outputs": [],
   "source": [
    "def wait_for_echo(self, pin):\n",
    "        \"\"\"\n",
    "        Waits for rising and falling edges on the echo pin (specified pin) to calculate pulse duration.\n",
    "        \"\"\"\n",
    "        GPIO.setup(pin, GPIO.IN)\n",
    "        pulse_start = time.time()\n",
    "        Initial_Time = pulse_start  \n",
    "        timeout = 0.01  # Timeout set to 10 milliseconds\n",
    "        while GPIO.input(pin) == 0 and time.time() - Initial_Time < timeout:\n",
    "            pulse_start = time.time()\n",
    "            if self.debug:\n",
    "                print(\"Waiting for echo...\")\n",
    "\n",
    "        if GPIO.input(pin) == 0:\n",
    "            print(\"Time Out: No echo received.\")\n",
    "            return None\n",
    "\n",
    "        pulse_end = time.time()\n",
    "        while GPIO.input(pin) == 1:\n",
    "            pulse_end = time.time()\n",
    "\n",
    "        pulse_duration = pulse_end - pulse_start\n",
    "        return pulse_duration\n"
   ]
  }
 ],
 "metadata": {
  "language_info": {
   "name": "python"
  }
 },
 "nbformat": 4,
 "nbformat_minor": 2
}
