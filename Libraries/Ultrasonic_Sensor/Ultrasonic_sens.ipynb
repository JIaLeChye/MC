{
 "cells": [
  {
   "cell_type": "markdown",
   "metadata": {},
   "source": [
    "# Ultrasonic Ranger \n",
    "**Full Coding At [Ultrasonic_sens.py](Ultrasonic_sens.py)** \n",
    "- *Library Used* \n",
    "    - RPi_GPIO   \n",
    "    - time "
   ]
  },
  {
   "cell_type": "markdown",
   "metadata": {},
   "source": [
    "## Installing Libraries (Dependencies)\n",
    "- RPi.GPIO \n",
    "    - `pip install rpi-lgpio` "
   ]
  },
  {
   "cell_type": "markdown",
   "metadata": {},
   "source": [
    "## Let's Start Coding ! \n",
    "### 1. Import all the libraries \n",
    "- RPi.GPIO \n",
    "- time "
   ]
  },
  {
   "cell_type": "code",
   "execution_count": null,
   "metadata": {},
   "outputs": [],
   "source": [
    "import RPi.GPIO as GPIO\n",
    "import time"
   ]
  },
  {
   "cell_type": "markdown",
   "metadata": {},
   "source": [
    "### 2. Create the Ultrasonic Class\n",
    "**As this Script will be a Library for other script thus a class is needed* \n",
    "- `__init_check` <br> \n",
    "    Is used to make sure the library is not being initialise multiple time \n",
    "- `SOUND_SPEED` <br>\n",
    "    Is the speed of sound in cm/s. In default the value is *34300*"
   ]
  },
  {
   "cell_type": "code",
   "execution_count": null,
   "metadata": {},
   "outputs": [],
   "source": [
    "class Ultrasonic:\n",
    "    \"\"\"\n",
    "    Class to represent an ultrasonic sensor.\n",
    "    \"\"\"\n",
    "    __init_check = False \n",
    "    SOUND_SPEED = 34300  # Speed of sound in cm/s"
   ]
  },
  {
   "cell_type": "markdown",
   "metadata": {},
   "source": [
    "### 3. The `__init__` function \n",
    "- The `__init__` function will run when the code is initialise \n",
    "- In default the debug flag is set to false. \n"
   ]
  }
 ],
 "metadata": {
  "language_info": {
   "name": "python"
  }
 },
 "nbformat": 4,
 "nbformat_minor": 2
}
