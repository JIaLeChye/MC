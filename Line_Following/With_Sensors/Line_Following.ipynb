{
 "cells": [
  {
   "cell_type": "markdown",
   "metadata": {},
   "source": [
    "# Line Following using Sensors\n",
    "**Full Coding available at [Line_Following.py](Line_Following.py)** \n",
    "<br>\n",
    "This is the documentation for line following with sensors (Maker Line)\n",
    "\n",
    "***Libraries Used In The Script***\n",
    "- Time \n",
    "- RPi_Robot_Hat_Lib\n",
    "\n"
   ]
  },
  {
   "cell_type": "markdown",
   "metadata": {},
   "source": [
    "## Installing Libraries @ Dependencies \n",
    "\n",
    "- RPi_Robot_Hat_Lib\n",
    "- time "
   ]
  },
  {
   "cell_type": "markdown",
   "metadata": {},
   "source": [
    "## Let's Start Coding ! \n",
    "### 1. Import all the libraries \n",
    "- RPi_Robot_Hat_Lib\n",
    "- time "
   ]
  },
  {
   "cell_type": "code",
   "execution_count": null,
   "metadata": {},
   "outputs": [],
   "source": [
    "from RPi_Robot_Hat_Lib import RobotController \n",
    "import time \n"
   ]
  },
  {
   "cell_type": "markdown",
   "metadata": {},
   "source": [
    "## 2. Initialise all the libraries \n",
    "- RobotController (To control the movement of the robot)\n",
    "\n",
    "\n"
   ]
  },
  {
   "cell_type": "code",
   "execution_count": null,
   "metadata": {},
   "outputs": [],
   "source": [
    "Motor = RobotController()"
   ]
  },
  {
   "cell_type": "markdown",
   "metadata": {},
   "source": [
    "## Main Function for Line Following\n",
    "\n",
    "- When the `main()` function is called, the `while True` loop starts.\n",
    "    - Inside the loop, the robot reads data from the line-following sensor, storing the output in the `Line_sensor` variable.\n",
    "    - From the `Line_sensor` variable, the sensor positions are mapped as follows:\n",
    "    ```python\n",
    "        outerRight = Line_sensor[0]\n",
    "        Right = Line_sensor[1]\n",
    "        center = Line_sensor[2]\n",
    "        Left = Line_sensor[3]\n",
    "        outerLeft = Line_sensor[4]\n",
    "    ```\n",
    "    \n",
    "    - Using data from the line sensor, line-following logic is implemented as follows:\n",
    "\n",
    "        - **Stopping Condition**: When all sensors detect white (0), the motor stops.\n",
    "        \n",
    "        ```python\n",
    "            if outerRight == 0 and Right == 0 and center == 0 and Left == 0 and outerLeft == 0:\n",
    "                Motor.Brake()\n",
    "                print(\"Brake\")\n",
    "        ```\n",
    "        \n",
    "        - **Right Turn Condition**: When the Right and Outer Right sensors detect black (1), the robot turns right to center itself on the line.\n",
    "        \n",
    "        ```python\n",
    "            if (outerRight == 1 or Right == 1) and center == 0 and Left == 0 and outerLeft == 0:\n",
    "                print(\"Turn Right\")  # Normal clockwise rotation\n",
    "                Motor.move(speed=0, turn=-20)\n",
    "        ```\n",
    "        \n",
    "        - **Left Turn Condition**: Similarly, when the Left and Outer Left sensors detect black (1), the robot turns left to center itself on the line.\n",
    "        \n",
    "        ```python\n",
    "            if (outerLeft == 1 or Left == 1) and center == 0 and Right == 0 and outerRight == 0:\n",
    "                Motor.move(speed=0, turn=20)\n",
    "                print(\"Turn Left\")\n",
    "        ```\n",
    "        \n",
    "        - **Forward Condition**: The robot moves forward when the Center sensor detects black (1). \n",
    "            - If the track has a wider black line, the robot will move forward as long as the center, right, and left sensors detect black.\n",
    "            \n",
    "            ```python\n",
    "                if (center == 1 and Right == 1 and Left == 1 and outerLeft == 0 and outerRight == 0) or (center == 1 and Right == 0 and Left == 0 and outerRight == 0 and outerLeft == 0):\n",
    "                    Motor.Forward(15)\n",
    "                    print(\"Forward\")\n",
    "            ```\n",
    "        \n",
    "        - **Black Surface Condition**: To prevent the robot from driving over a fully black surface (when all sensors detect black (1)), it stops.\n",
    "        \n",
    "        ```python\n",
    "            if center == 1 and Right == 1 and Left == 1 and outerRight == 1 and outerLeft == 1:\n",
    "                Motor.Brake()\n",
    "                print(\"Brake\")\n",
    "        ```\n"
   ]
  },
  {
   "cell_type": "code",
   "execution_count": null,
   "metadata": {},
   "outputs": [],
   "source": [
    "def main():\n",
    "    while True: \n",
    "        Line_Sensor = Motor.read_line_sensors()\n",
    "        outerRight = Line_Sensor[0]\n",
    "        Right = Line_Sensor[1]\n",
    "        center =  Line_Sensor[2]\n",
    "        Left  = Line_Sensor[3]\n",
    "        outerLeft = Line_Sensor[4]\n",
    "        if outerRight == 0 and Right == 0 and center == 0 and Left == 0 and outerLeft == 0:\n",
    "            Motor.Brake()\n",
    "            print(\"Brake\")\n",
    "\n",
    "        if (outerRight == 1 or Right == 1) and center == 0 and Left == 0 and outerLeft == 0:\n",
    "            print(\"Turn Right\")  # Normal clockwise rotation\n",
    "            Motor.move(speed=0, turn=-20)\n",
    "\n",
    "        if (outerLeft == 1 or Left == 1) and center == 0 and Right == 0 and outerRight == 0:\n",
    "            Motor.move(speed=0, turn=20)\n",
    "            print(\"Turn Left\")  # Normal anticlockwise rotation\n",
    "\n",
    "        if (center == 1 and Right == 1 and Left == 1 and outerLeft == 0 and outerRight == 0) or (center == 1 and Right == 0 and Left == 0 and outerRight == 0 and outerLeft == 0):\n",
    "            Motor.Forward(15)\n",
    "            print(\"Forward\")\n",
    "\n",
    "        if center == 1 and Right == 1 and Left == 1 and outerRight == 1 and outerLeft == 1:\n",
    "            Motor.Brake()\n",
    "            print(\"Brake\")"
   ]
  },
  {
   "cell_type": "markdown",
   "metadata": {},
   "source": [
    "## Wraping up \n",
    "- when the programe start run the main function \n",
    "    ```py\n",
    "    try:\n",
    "        if __name__ == '__main__': \n",
    "            main()\n",
    "    ``` \n",
    "- When there is keyboard interupt (Ctrl + c)\n",
    "    ```py\n",
    "    except KeyboardInterrupt: \n",
    "        Motor.cleanup() # Reset all the Hardware and stop the Motor \n",
    "        print(\"Program Stopped\")\n",
    "\n",
    "    ```\n",
    "\n",
    "\n",
    "    "
   ]
  },
  {
   "cell_type": "code",
   "execution_count": null,
   "metadata": {},
   "outputs": [],
   "source": [
    "try: \n",
    "    if __name__ == '__main__': \n",
    "        main() \n",
    "\n",
    "except KeyboardInterrupt: \n",
    "    Motor.cleanup()\n",
    "    print(\"Program Stopped\")\n"
   ]
  }
 ],
 "metadata": {
  "kernelspec": {
   "display_name": "Python 3",
   "language": "python",
   "name": "python3"
  },
  "language_info": {
   "codemirror_mode": {
    "name": "ipython",
    "version": 3
   },
   "file_extension": ".py",
   "mimetype": "text/x-python",
   "name": "python",
   "nbconvert_exporter": "python",
   "pygments_lexer": "ipython3",
   "version": "3.11.2"
  }
 },
 "nbformat": 4,
 "nbformat_minor": 2
}
