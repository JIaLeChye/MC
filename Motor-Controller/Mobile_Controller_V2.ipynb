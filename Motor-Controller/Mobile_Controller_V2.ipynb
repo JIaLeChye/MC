{
 "cells": [
  {
   "cell_type": "markdown",
   "metadata": {},
   "source": [
    "# Motor Controller Version 2.0\n",
    "**Full Coiding at [Motor_Controller_V2.py](/home/raspberry/Desktop/MC/Mobile_controller_V2.py)**\n",
    "<br>\n",
    "This is the documentation about the  Motor Controller V2 \n",
    "\n",
    "***Libraries Used In The Script***\n",
    "- [BlynkLib](https://github.com/vshymanskyy/blynk-library-python/tree/master) \n",
    "- [PCA9685_MC](/home/raspberry/Desktop/MC/PCA9685_MC.py) \n",
    "- [Motor_Encoder](/home/raspberry/Desktop/MC/Motor_Encoder.py)\n",
    "- [time](https://docs.python.org/3/library/time.html)\n",
    "\n",
    "TODO: Installation of Libraries<br>\n",
    "TODO: Setup on Mobile"
   ]
  },
  {
   "cell_type": "markdown",
   "metadata": {},
   "source": [
    "## Setting Up Blynk Server\n",
    "1. Visit [Blynk Console](https://blynk.cloud/dashboard). \n",
    "2. Select *Create new account* (If you don't have an account).\n",
    "3. Insert your *email* and follow the **Sign Up** process. \n",
    "4. Nevigate to *Develope Zone(1)* and click *New Template(2)*. <br> <br> <img src=\"Images/Mobile_Controller/Create_New_Template.png\" alt=\"Create New Template\" width=\"1000\" height=\"250\">  \n",
    "5. Give Your Template a *Name(3)*,  select *Hardware(4)* as **RaspberryPi** and click *Done(5)*. <br><br><img src=\"Images/Mobile_Controller/Rename_Template.png\" alt=\"Rename Template\" width=\"500\" height=\"400\">\n",
    "6. Nevigate to *Devices(6)* and click *New Device(7)*. <br><br> <img src=\"Images/Mobile_Controller/Create_Device.png\" alt=\"Create Device\" width=\"1000\" height=\"200\">\n",
    "7. Select *From Template(8)* <br><br><img src=\"Images/Mobile_Controller/Select_Template.png\" alt=\"Select Template\" width=\"500\" height=\"400\">\n",
    "8. Configure the device by selecting the *Template(9)* we created previously and Enter the *Name(10)* of the device then click *Create(11)*. <br> <br> <img src=\"Images/Mobile_Controller/Configure_New_Device.png\" alt=\"Configure Device\" width=\"500\" height=\"400\" >\n",
    "9. Copy the **Auth Token** from the pop-out by clicking the *Copy to clipboard(12)*. <br><br><img src=\"Images/Mobile_Controller/Copy_Auuth_Token.png\" alt=\"Copy Auth Token\" width=\"500\" height=\"300\"> "
   ]
  },
  {
   "cell_type": "markdown",
   "metadata": {},
   "source": [
    "## Setting Up Blynk Mobile Application\n",
    "1. Download [Blynk APP](https://play.google.com/store/apps/details?id=cloud.blynk) \n",
    "2. Login to using the acount created for Blynk Desktop \n",
    "3. \n"
   ]
  },
  {
   "cell_type": "markdown",
   "metadata": {},
   "source": [
    "Import all the libraries used"
   ]
  },
  {
   "cell_type": "code",
   "execution_count": 1,
   "metadata": {},
   "outputs": [
    {
     "name": "stdout",
     "output_type": "stream",
     "text": [
      "\n",
      "    ___  __          __\n",
      "   / _ )/ /_ _____  / /__\n",
      "  / _  / / // / _ \\/  '_/\n",
      " /____/_/\\_, /_//_/_/\\_\\\n",
      "        /___/ for Python v1.0.0 (linux)\n",
      "\n"
     ]
    }
   ],
   "source": [
    "from PCA9685_MC import Motor_Controller \n",
    "from Motor_Encoder import Encoder \n",
    "import BlynkLib\n",
    "import time"
   ]
  },
  {
   "cell_type": "markdown",
   "metadata": {},
   "source": [
    "Replace [ ***REPLACE-TO-YOUR-AUTH-CODE*** ] with the Auth Token obtain from the blynk server dashboard "
   ]
  },
  {
   "cell_type": "code",
   "execution_count": 2,
   "metadata": {},
   "outputs": [],
   "source": [
    "AUTH = \"thhcE_N3Hi7WQTq-K2jHJQC-5x1ng-jZ\"\n"
   ]
  },
  {
   "cell_type": "markdown",
   "metadata": {},
   "source": [
    "Initialize all the libraries.\n",
    "- enc (Motor Encoder Libray) where ***ODISPLAY=True*** is Enable the *OLED* Display \n",
    "- Motor (Motor Library) where there us no argument needed to be passed to. \n",
    "- blynk (Blynk IoT Platform Library) where ***AUTH*** is the auth code of the device. "
   ]
  },
  {
   "cell_type": "code",
   "execution_count": 3,
   "metadata": {},
   "outputs": [
    {
     "name": "stdout",
     "output_type": "stream",
     "text": [
      "Initializing Motor Controller...\n",
      "Motor Controller Initialized\n",
      "Connecting to blynk.cloud:443...\n",
      "Blynk Connection Established\n"
     ]
    }
   ],
   "source": [
    "enc = Encoder(ODISPLAY= True) # The Encoder Library\n",
    "print(\"Initializing Motor Controller...\")\n",
    "Motor = Motor_Controller() # The Motor Library \n",
    "print(\"Motor Controller Initialized\")\n",
    "blynk = BlynkLib.Blynk(AUTH) # The Blynk Library\n",
    "print(\"Blynk Connection Established\")\n",
    "\n",
    "Freq = 0 # Define the speed value \n",
    "blynk.virtual_write(4,Freq) # Set the virtual pin 4 (SlideBar) to 0 [Prevent the Car Goes Crazy!]\n",
    "Motor.Brake() #Set the motor to static "
   ]
  },
  {
   "cell_type": "markdown",
   "metadata": {},
   "source": [
    "### When blynk server is connected \n",
    "1. **Decorator: `@blynk.on(\"connected\")`**\n",
    "    - This line sets up an event handler for the \"connected\" event. When the Blynk server connects, the function below this decorator will be called.\n",
    "\n",
    "    ```python\n",
    "    @blynk.on(\"connected\")\n",
    "    ```\n",
    "\n",
    "2. **Function: `blynk_connected()`**\n",
    "    - This function is called when the Blynk server is connected.\n",
    "    - It prints a message to the console indicating that the server is connected.\n",
    "  \n",
    "    ```python\n",
    "    def blynk_connected():\n",
    "        print(\"Blynk server Connected\")\n",
    "    ```\n",
    "\n",
    "3. **Nested Decorator: `@blynk.on(\"V4\")`**\n",
    "    - Inside the `blynk_connected()` function, this line sets up another event handler for virtual pin V4. When a value is written to V4, the `v4_write_handler` function will be called.\n",
    "\n",
    "    ```python\n",
    "        @blynk.on(\"V4\")\n",
    "    ```\n",
    "\n",
    "4. **Function: `v4_write_handler(value)`**\n",
    "    - This function handles the event when a value is written to virtual pin V4.\n",
    "    - It prints the current slider value received from the Blynk app.\n",
    "    - It updates the global variable `Freq` with the new value.\n",
    "\n",
    "\n",
    "🔽 Run The Code Bellow. 🔽\n",
    "\n",
    "\t\t\n"
   ]
  },
  {
   "cell_type": "code",
   "execution_count": 4,
   "metadata": {},
   "outputs": [],
   "source": [
    "@blynk.on(\"connected\")\n",
    "def blynk_connected():\n",
    "\tprint(\"Blynk server Conected\")\n",
    "\n",
    "\t@blynk.on(\"V4\")\n",
    "\tdef v4_write_handler(value):\n",
    "\t\tglobal Freq\n",
    "\t\tprint('Current slider value: {}'.format(value[0]))\n",
    "\t\tVPin = int(value[0])\n",
    "\t\tFreq = VPin\n",
    "\t\treturn Freq\n",
    "\t\t"
   ]
  },
  {
   "cell_type": "markdown",
   "metadata": {},
   "source": [
    "### When value of V0 is changed \n",
    "7. Simmilar structure to the code above but when V0 (Virtual Pin ) is changed from 0 to 1 or 0 to 1 \n",
    "`@blynk.on(\"V0\")` \n",
    "\n",
    "8. It will call for the function. \n",
    "`v0_write_handeler(value)` \n",
    "- In this function it will obtain the value of the pin.\n",
    "  `VPin = int(value[0])`\n",
    "- Then compare wheather the Value of the Pin is 1 or 0 or None.\n",
    "`if VPin is not None:`\n",
    "  - If Pin value is 1. `if VPin == 1` \n",
    "  - It will call the Motor to Run Backward `Motor.Forward(Freq)` with the *Variable* `Freq` where it was set by the pin [V4](#when-blynk-server-is-connected).\n",
    "  - If Pin value is 0 . `if VPin == 0` \n",
    "  - It will call the Motor to Brake.`Motor.Brake()`\n",
    "- If the Pin value is something other than 1 or 0 it will skip the process. `else: pass` \n",
    "\n",
    "\n",
    "🔽 Run The Code Bellow. 🔽"
   ]
  },
  {
   "cell_type": "code",
   "execution_count": 5,
   "metadata": {},
   "outputs": [],
   "source": [
    "\t@blynk.on(\"V0\")\n",
    "\tdef v0_write_handler(value):\n",
    "\t\t\t# print('Current slider value: {}'.format(value[0]))\n",
    "\t\t\tVPin = int(value[0])\n",
    "\t\t\tif VPin is not None:\n",
    "\t\t\t\tif VPin == 1 :\n",
    "\t\t\t\t\tMotor.Forward(Freq)\n",
    "\t\t\t\tif VPin == 0 :\n",
    "\t\t\t\t\tMotor.Brake()\n",
    "\t\t\telse:\n",
    "\t\t\t\tpass"
   ]
  },
  {
   "cell_type": "markdown",
   "metadata": {},
   "source": [
    "### When value of V1 is changed \n",
    "7. Simmilar structure to the code above but when V1 (Virtual Pin 1) is changed from 0 to 1 or 0 to 1. `@blynk.on(\"V1\")` \n",
    "\n",
    "8. It will call for the function. `v1_write_handeler(value)` \n",
    "  - In this function it will obtain the value of the pin. `VPin = int(value[0])`\n",
    "  - Then compare wheather the Value of the Pin is 1 or 0 or None. `if VPin is not None:`\n",
    "    - If Pin value is 1. `if VPin == 1` \n",
    "    - It will call the Motor to Run Backward `Motor.BAckward(Freq)` with the *Variable* `Freq` where it was set by the pin [V4](#when-blynk-server-is-connected).\n",
    "    - If Pin value is 0 . `if VPin == 0` \n",
    "    - It will call the Motor to Brake.`Motor.Brake()`\n",
    "  - If the Pin value is something other than 1 or 0 it will skip the process. `else: pass` \n",
    "\n",
    "\n",
    "🔽 Run The Code Bellow. 🔽\n"
   ]
  },
  {
   "cell_type": "code",
   "execution_count": 6,
   "metadata": {},
   "outputs": [],
   "source": [
    "\t@blynk.on(\"V1\")\n",
    "\tdef v1_write_handler(value):\n",
    "\t\t# print('Current slider value: {}'.format(value[0]))\n",
    "\t\tVPin = int(value[0])\n",
    "\t\tif VPin is not None:\n",
    "\t\t\tif VPin == 1 :\n",
    "\t\t\t\tMotor.Backward(Freq)\n",
    "\t\t\tif VPin == 0 :\n",
    "\t\t\t\tMotor.Brake()\n",
    "\t\telse:\n",
    "\t\t\tpass"
   ]
  },
  {
   "cell_type": "markdown",
   "metadata": {},
   "source": [
    "**The code bellow has the same structure as above but with diffrent motion only**   \n",
    "\n",
    "9. For *Virtual Pins*  \n",
    "    - V2(Left Horizontal Movement)\n",
    "    - V3(Right Horizontal Movement)\n",
    "    - V5(Clock-wise Rotation Movement)\n",
    "    - V6(Anti-Clock-wise Rotation Movement)"
   ]
  },
  {
   "cell_type": "code",
   "execution_count": 7,
   "metadata": {},
   "outputs": [],
   "source": [
    "\t@blynk.on(\"V2\")\n",
    "\tdef v1_write_handler(value):\n",
    "\t\t\t# print('Current slider value: {}'.format(value[0]))\n",
    "\t\tVPin = int(value[0])\n",
    "\t\tif VPin is not None:\n",
    "\t\t\tif VPin == 1 :\n",
    "\t\t\t\tMotor.Horizontal_Left(Freq)\n",
    "\t\t\tif VPin == 0 :\n",
    "\t\t\t\tMotor.Brake()\n",
    "\t\telse:\n",
    "\t\t\tpass\n",
    "\t\t\n",
    "\t\t\n",
    "\t@blynk.on(\"V3\")\n",
    "\tdef v1_write_handler(value):\n",
    "\t\t\t# print('Current slider value: {}'.format(value[0]))\n",
    "\t\tVPin = int(value[0])\n",
    "\t\tif VPin is not None:\n",
    "\t\t\tif VPin == 1 :\n",
    "\t\t\t\tMotor.Horizontal_Right(Freq)\n",
    "\t\t\tif VPin == 0 :\n",
    "\t\t\t\tMotor.Brake()\n",
    "\t\telse:\n",
    "\t\t\tpass\n",
    "\t\t\n",
    "\t@blynk.on(\"V5\")\n",
    "\tdef v1_write_handler(value):\n",
    "\t\t# print('Current slider value: {}'.format(value[0]))\n",
    "\t\tVPin = int(value[0])\n",
    "\t\tif VPin is not None:\n",
    "\t\t\tif VPin == 1 :\n",
    "\t\t\t\tMotor.Clock_Rotate(Freq)\n",
    "\t\t\tif VPin == 0 :\n",
    "\t\t\t\tMotor.Brake()\n",
    "\t\telse:\n",
    "\t\t\tpass\n",
    "\t@blynk.on(\"V6\")\n",
    "\tdef v1_write_handler(value):\n",
    "\t\t# print('Current slider value: {}'.format(value[0]))\n",
    "\t\tVPin = int(value[0])\n",
    "\t\tif VPin is not None:\n",
    "\t\t\tif VPin == 1 :\n",
    "\t\t\t\tMotor.AntiClock_Rotate(Freq)\n",
    "\t\t\tif VPin == 0 :\n",
    "\t\t\t\tMotor.Brake()\n",
    "\t\telse:\n",
    "\t\t\tpass"
   ]
  },
  {
   "cell_type": "markdown",
   "metadata": {},
   "source": [
    "### Synchronize the values of virtual pins from the Blynk server.\n",
    "`blynk.sync_virtual(0,1,2,3,4)`\n"
   ]
  },
  {
   "cell_type": "code",
   "execution_count": 8,
   "metadata": {},
   "outputs": [],
   "source": [
    "blynk.sync_virtual(0,1,2,3,4)\n"
   ]
  },
  {
   "cell_type": "markdown",
   "metadata": {},
   "source": [
    "### The main() Function \n",
    "10. Ensure the Blynk server is connected and runs smoothly. `blynk.run()`\n",
    "11. Send the value of *Freq* to the blynk server. `blynk.virtual_write(8,Freq)` \n",
    "12. Get the connection status of blynk server. `status = blynk.state` \n",
    "13. If the connection status is *0 (Disconnected)*. `if status == 0:`\n",
    "    - Stop the Motor. `Motor.Brake()`\n",
    "    - Reconnect to the blynk server. `blynk.connect()`  \n",
    "\n"
   ]
  },
  {
   "cell_type": "code",
   "execution_count": 10,
   "metadata": {},
   "outputs": [],
   "source": [
    "def main():\n",
    "\twhile True: \n",
    "\t\tenc.encoder()\n",
    "\t\tblynk.run()\n",
    "\t\tblynk.virtual_write(8, Freq)\n",
    "\t\t# time.sleep(0.2)\n",
    "\t\tstatus = blynk.state\n",
    "\t\tif status == 0:\n",
    "\t\t\tprint(\"Reconnecting...\")\n",
    "\t\t\tMotor.Brake()\n",
    "\t\t\ttime.sleep(2)\n",
    "\t\t\tblynk.connect()"
   ]
  },
  {
   "cell_type": "markdown",
   "metadata": {},
   "source": [
    "### When the code Runs \n",
    "14. When the program starts it will *try* to fun the if statement. `try:`\n",
    "    - If the programe runs as main. `if __name__ == \"__main__\"`\n",
    "        - It will start the *main* function. `main()`\n",
    "15. When Keyboard Inturpt (*Ctrl + c*) is detected. `except KeyboardInturrupt:`\n",
    "    - Stop the Motor `Motor.Brake()` \n",
    "    - Set Frequency *Freq* to 0. `Freq = 0` \n",
    "    - Send the *Freq* Value to Virtual Pin 4 and 8 \n",
    "        ```python\n",
    "        blynk.virtual_write(4, Freq)\n",
    "        blynk.virtual_write(8, Freq)\n",
    "        ```"
   ]
  },
  {
   "cell_type": "code",
   "execution_count": null,
   "metadata": {},
   "outputs": [],
   "source": [
    "try:\n",
    "\tif __name__ == \"__main__\":\n",
    "\t\tmain()\n",
    "except KeyboardInterrupt:\n",
    "  print(\"Interrupt received (Ctrl+C). Exiting...\")\n",
    "  Freq = 0 \n",
    "  blynk.virtual_write(4, Freq)\n",
    "  blynk.virtual_write(8, Freq)\n",
    "  Motor.Brake()"
   ]
  }
 ],
 "metadata": {
  "kernelspec": {
   "display_name": ".venv",
   "language": "python",
   "name": "python3"
  },
  "language_info": {
   "codemirror_mode": {
    "name": "ipython",
    "version": 3
   },
   "file_extension": ".py",
   "mimetype": "text/x-python",
   "name": "python",
   "nbconvert_exporter": "python",
   "pygments_lexer": "ipython3",
   "version": "3.11.2"
  }
 },
 "nbformat": 4,
 "nbformat_minor": 2
}
