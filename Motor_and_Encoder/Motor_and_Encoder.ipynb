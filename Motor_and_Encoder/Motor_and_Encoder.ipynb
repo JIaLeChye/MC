{
 "cells": [
  {
   "cell_type": "markdown",
   "metadata": {},
   "source": [
    "# Motor and Encoders\n",
    "**Full Coding available at [Motor_and_Encoder.py](Motor_and_Encoder.py)** \n",
    "<br>\n",
    "This is the documentation for Motor and Encoder script \n",
    "***Libraries Used In The Script***\n",
    "- Time \n",
    "- RPi_Robot_Hat_Lib"
   ]
  },
  {
   "cell_type": "markdown",
   "metadata": {},
   "source": [
    "## Let's Start Coding ! \n",
    "### 1. Import all the libraries \n",
    "- RPi_Robot_Hat_Lib\n",
    "- time "
   ]
  },
  {
   "cell_type": "code",
   "execution_count": null,
   "metadata": {},
   "outputs": [],
   "source": [
    "from RPi_Robot_Hat_Lib import RobotController \n",
    "import time"
   ]
  },
  {
   "cell_type": "markdown",
   "metadata": {},
   "source": [
    "### 2. Initialise all the libraries and create global variables \n",
    "```py\n",
    "    Motor = RobotController()\n",
    "    Refresh_time = 2 \n",
    "```"
   ]
  },
  {
   "cell_type": "code",
   "execution_count": null,
   "metadata": {},
   "outputs": [],
   "source": [
    "Motor = RobotController()\n",
    "Refresh_time = 2 "
   ]
  },
  {
   "cell_type": "markdown",
   "metadata": {},
   "source": [
    "### 3. The `main` function \n",
    "- When the script is started, the Encoder will be reset to 0 to ensure accurate values from the encoder \n",
    "- The program will ask for the distance (m) and speed(0-100) to test the motor and encoder function. \n",
    "```py \n",
    "    distance = input(\"Enter distance: \") \n",
    "    speed = input(\"Enter speed: \")\n",
    "```\n",
    "- The Robot car will move for the stated distance speed. \n",
    "```py\n",
    "    Motor.move_distance(int(distance), int(speed))\n",
    "```\n",
    "- While moving, The data for the encoder is displayed on the OLED Screen.\n",
    "```py\n",
    "    Motor.disp_fwd_enc()\n",
    "    time.sleep(Refresh_time)  \n",
    "    Motor.clear_disp()\n",
    "    Motor.disp_bwd_enc()\n",
    "```\n",
    "- Due to the size of teh OLED screen, only 2 encoder data can be displayed at once.\n",
    "- the oled will refresh every 2 second.\n",
    "    "
   ]
  },
  {
   "cell_type": "code",
   "execution_count": null,
   "metadata": {},
   "outputs": [],
   "source": [
    "def main():\n",
    "    print(\"Program Start\")\n",
    "    Motor.reset_encoders()\n",
    "\n",
    "   \n",
    "    while True:\n",
    "        distance = input(\"Enter distance: \") \n",
    "        speed = input(\"Enter speed: \")\n",
    "        Motor.move_distance(int(distance), int(speed))\n",
    "        Motor.disp_fwd_enc()\n",
    "        time.sleep(Refresh_time)  \n",
    "        Motor.clear_disp()\n",
    "        Motor.disp_bwd_enc()\n",
    "        time.sleep(Refresh_time)  "
   ]
  },
  {
   "cell_type": "markdown",
   "metadata": {},
   "source": [
    "### 6. Wrapping up\n",
    "- When the prograe was started, run the main() function  \n",
    "```py\n",
    "    if __name__ == \"__main__\":\n",
    "            main()\n",
    "```\n",
    "\n",
    "- When Keyboard Inturrupt is detected (Ctrl + C) terminate the process. \n",
    "```py\n",
    "    except KeyboardInterrupt:\n",
    "        Motor.clear_disp()\n",
    "        Motor.cleanup()\n",
    "    finally:\n",
    "        Motor.clear_disp()\n",
    "        Motor.cleanup()\n",
    "        exit()\n",
    "```"
   ]
  },
  {
   "cell_type": "code",
   "execution_count": null,
   "metadata": {},
   "outputs": [],
   "source": [
    "try:\n",
    "    if __name__ == \"__main__\":\n",
    "        main()\n",
    "except KeyboardInterrupt:\n",
    "    Motor.clear_disp()\n",
    "    Motor.cleanup()\n",
    "finally:\n",
    "    Motor.clear_disp()\n",
    "    Motor.cleanup()\n",
    "    exit()\n"
   ]
  }
 ],
 "metadata": {
  "language_info": {
   "name": "python"
  }
 },
 "nbformat": 4,
 "nbformat_minor": 2
}
