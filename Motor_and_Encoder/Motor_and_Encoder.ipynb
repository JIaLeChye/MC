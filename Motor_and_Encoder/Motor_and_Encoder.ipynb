{
 "cells": [
  {
   "cell_type": "markdown",
   "metadata": {},
   "source": [
    "# Line Following using Sensors\n",
    "**Full Coding available at [Line_Following.py](Line_Following.py)** \n",
    "<br>\n",
    "This is the documentation for line following with sensors (Maker Line)\n",
    "\n",
    "***Libraries Used In The Script***\n",
    "- Time \n",
    "- Motor_Encoder\n",
    "- PCA9685_MC \n",
    "- RPi.GPIO \n",
    "\n"
   ]
  },
  {
   "cell_type": "markdown",
   "metadata": {},
   "source": []
  },
  {
   "cell_type": "markdown",
   "metadata": {},
   "source": [
    "## Installing Libraries @ Dependencies \n",
    "- Build-In Libraries\n",
    "    - RPI.GPIO \n",
    "    - PCA9685_MC \n",
    "    - Motor_Encoder \n",
    "    - time "
   ]
  },
  {
   "cell_type": "markdown",
   "metadata": {},
   "source": [
    "## Let's Start Coding ! \n",
    "### 1. Import all the libraries \n",
    "- RPI.GPIO \n",
    "- PCA9685_MC \n",
    "- Motor_Encoder \n",
    "- time "
   ]
  },
  {
   "cell_type": "code",
   "execution_count": null,
   "metadata": {},
   "outputs": [],
   "source": [
    "from PCA9685_MC import Motor_Controller \n",
    "from Motor_Encoder import Encoder \n",
    "import time \n",
    "import RPi.GPIO as GPIO "
   ]
  },
  {
   "cell_type": "markdown",
   "metadata": {},
   "source": [
    "## Initialise all the libraries in a function \n",
    "- PCA9685_MC (For Motor Driver and Servo HAT)\n",
    "- Motor_Encoder (For Back Motoe Encoder)\n",
    "- Create Global Variable  \n",
    "- Initialise the GPIO Pins \n",
    "    - Set GPIO Mode to BCM \n",
    "    - Setup the signal pin to Input mode \n",
    "\n"
   ]
  },
  {
   "cell_type": "code",
   "execution_count": null,
   "metadata": {},
   "outputs": [],
   "source": [
    "def init():  \n",
    "    global Motor, enc, D1, D2, D3, D4, D5\n",
    "    Motor = Motor_Controller()\n",
    "    enc = Encoder(debug = True) \n",
    "    GPIO.setmode(GPIO.BCM)\n",
    "    D1 = 6 \n",
    "    D2 = 11\n",
    "    D3 = 13\n",
    "    D4 = 17 \n",
    "    D5 = 19 \n",
    "\n",
    "    GPIO.setup(D1, GPIO.IN)\n",
    "    GPIO.setup(D2, GPIO.IN)\n",
    "    GPIO.setup(D3, GPIO.IN)\n",
    "    GPIO.setup(D4, GPIO.IN)\n",
    "    GPIO.setup(D5, GPIO.IN)\n",
    "    print(\"GPIO Setup Complete\")\n"
   ]
  },
  {
   "cell_type": "markdown",
   "metadata": {},
   "source": [
    "## Main function for Line Following \n",
    "- Start Init function \n",
    "    ```py\n",
    "    init()\n",
    "    ``` \n",
    "- While True Loop \n",
    "    - start the Motor Encode \n",
    "        ```py\n",
    "        enc.encoer()\n",
    "        ```\n",
    "    - Obtain the input signal from pin `D1, D2, D3, D4 and D5` \n",
    "\n",
    "    - The line following logic \n",
    "        - If the signnal all of the signal are not detected, the car will stop \n",
    "        ```py \n",
    "            if outerRight == 0 and Right == 0 and center == 0 and Left == 0 and outerLeft == 0:\n",
    "                Motor.Brake()\n",
    "                print(\"Brake\")\n",
    "        ```\n",
    "        - If the signl of the `outerRight` and `Right` is detected, Rotate the car Clockwise (Right) \n",
    "        ```py\n",
    "            if (outerRight == 1 or Right == 1) and center == 0 and Left == 0 and outerLeft == 0:\n",
    "                print(\"Turn Right\")  # Normal clockwise rotation\n",
    "                Motor.Clock_Rotate(20)\n",
    "        ```\n",
    "        - If the signal of `outerLeft` and `Left` is detected, Rotate the car Antoclockwise (Left) \n",
    "        ```py \n",
    "            if (outerLeft == 1 or Left == 1) and center == 0 and Right == 0 and outerRight == 0:\n",
    "                Motor.AntiClock_Rotate(20)\n",
    "                print(\"Turn Left\")  # Normal anticlockwise rotation\n",
    "        ``` \n",
    "        - If the signl of the `center` and `Right` and `Left` is detected together, move the car forward \n",
    "        ```py \n",
    "            if (center == 1 and Right == 1 and Left == 1 and outerLeft == 0 and outerRight == 0) or (center == 1 and Right == 0 and Left == 0 and outerRight == 0 and outerLeft == 0):\n",
    "                Motor.Forward(15)\n",
    "                print(\"Forward\")\n",
    "        ```"
   ]
  },
  {
   "cell_type": "code",
   "execution_count": null,
   "metadata": {},
   "outputs": [],
   "source": [
    "def main():\n",
    "    global Motor, enc, D1, D2, D3, D4, D5\n",
    "    init()\n",
    "    while True: \n",
    "        enc.encoder()\n",
    "        # GPIO.setup(D1, GPIO.IN)\n",
    "        # GPIO.setup(D2, GPIO.IN)\n",
    "        # GPIO.setup(D3, GPIO.IN)\n",
    "        # GPIO.setup(D4, GPIO.IN)\n",
    "        # GPIO.setup(D5, GPIO.IN)\n",
    "        outerRight = GPIO.input(D1)\n",
    "        Right = GPIO.input(D2)\n",
    "        center =  GPIO.input(D3)\n",
    "        Left  = GPIO.input(D4)\n",
    "        outerLeft = GPIO.input(D5) \n",
    "        if outerRight == 0 and Right == 0 and center == 0 and Left == 0 and outerLeft == 0:\n",
    "            Motor.Brake()\n",
    "            print(\"Brake\")\n",
    "\n",
    "        if (outerRight == 1 or Right == 1) and center == 0 and Left == 0 and outerLeft == 0:\n",
    "            print(\"Turn Right\")  # Normal clockwise rotation\n",
    "            Motor.Clock_Rotate(20)\n",
    "\n",
    "        if (outerLeft == 1 or Left == 1) and center == 0 and Right == 0 and outerRight == 0:\n",
    "            Motor.AntiClock_Rotate(20)\n",
    "            print(\"Turn Left\")  # Normal anticlockwise rotation\n",
    "\n",
    "        if (center == 1 and Right == 1 and Left == 1 and outerLeft == 0 and outerRight == 0) or (center == 1 and Right == 0 and Left == 0 and outerRight == 0 and outerLeft == 0):\n",
    "            Motor.Forward(15)\n",
    "            print(\"Forward\")\n",
    "\n",
    "        if center == 1 and Right == 1 and Left == 1 and outerRight == 1 and outerLeft == 1:\n",
    "            Motor.Brake()\n",
    "            print(\"Brake\")"
   ]
  },
  {
   "cell_type": "markdown",
   "metadata": {},
   "source": [
    "## Wraping up \n",
    "- when the programe start run the main function \n",
    "    ```py\n",
    "    try:\n",
    "        if __name__ == '__main__': \n",
    "            main()\n",
    "    ``` \n",
    "- When there is keyboard interupt (Ctrl + c)\n",
    "    ```py\n",
    "    except KeyboardInterrupt: \n",
    "    Motor.cleanup()\n",
    "    enc.stop()\n",
    "    print(\"Program Stopped\")\n",
    "    ```\n",
    "\n",
    "\n",
    "    "
   ]
  },
  {
   "cell_type": "code",
   "execution_count": null,
   "metadata": {},
   "outputs": [],
   "source": [
    "try:\n",
    "    if __name__ == '__main__': \n",
    "        main()\n",
    "    \n",
    "except KeyboardInterrupt: \n",
    "    Motor.cleanup()\n",
    "    enc.stop()\n",
    "    print(\"Program Stopped\")"
   ]
  }
 ],
 "metadata": {
  "language_info": {
   "name": "python"
  }
 },
 "nbformat": 4,
 "nbformat_minor": 2
}
