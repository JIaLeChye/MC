{
 "cells": [
  {
   "cell_type": "markdown",
   "metadata": {},
   "source": [
    "# Motor and Encoders\n",
    "**Full Coding available at [Motor_and_Encoder.py](Motor_and_Encoder.py)** \n",
    "<br>\n",
    "This is the documentation for Motor and Encoder script \n",
    "***Libraries Used In The Script***\n",
    "- Time \n",
    "- Motor_EncoderV2\n",
    "- PCA9685_MC \n",
    "- Threading"
   ]
  },
  {
   "cell_type": "markdown",
   "metadata": {},
   "source": [
    "## Installing Libraries @ Dependencies \n",
    "- Build-In Libraries\n",
    "   \n",
    "    - PCA9685_MC \n",
    "    - Motor_EncoderV2\n",
    "    - time \n",
    "    - threading"
   ]
  },
  {
   "cell_type": "markdown",
   "metadata": {},
   "source": [
    "## Let's Start Coding ! \n",
    "### 1. Import all the libraries \n",
    "- PCA9685_MC \n",
    "- Motor_Encoder \n",
    "- time \n",
    "- threading"
   ]
  },
  {
   "cell_type": "code",
   "execution_count": null,
   "metadata": {},
   "outputs": [],
   "source": [
    "from PCA9685_MC import Motor_Controller\n",
    "from Motor_EncoderV2 import Encoder \n",
    "import time\n",
    "import threading "
   ]
  },
  {
   "cell_type": "markdown",
   "metadata": {},
   "source": [
    "### 2. Initialise all the libraries in a function \n",
    "- Create global variable using \n",
    "    ```py \n",
    "    global enc, Motor , shutdown_event\n",
    "    ```\n",
    "- PCA9685_MC (For Motor Driver and Servo HAT)\n",
    "- Motor_EncoderV2 (For Back Motoe Encoder)\n",
    "- shutdown_event (IS put to set when stoping the program)"
   ]
  },
  {
   "cell_type": "code",
   "execution_count": null,
   "metadata": {},
   "outputs": [],
   "source": [
    "def init():\n",
    "    global enc, Motor , shutdown_event\n",
    "    Motor = Motor_Controller() \n",
    "    enc = Encoder() \n",
    "    shutdown_event = threading.Event()"
   ]
  },
  {
   "cell_type": "markdown",
   "metadata": {},
   "source": [
    "### 3. The `Movemnent` function \n",
    "- This function is used to control the motion of the motor \n",
    "- When the function starts, It will check for the shutdown event \n",
    "- If it is not set \n",
    "    - Run all the motor forward for 5 seconds \n",
    "    - Brake the motor for 1 second \n",
    "    - Run all the motor backward for 5 seconds \n",
    "    - Brake the motor for 1 second \n",
    "    "
   ]
  },
  {
   "cell_type": "code",
   "execution_count": null,
   "metadata": {},
   "outputs": [],
   "source": [
    "def Movement():\n",
    "    global Motor, shutdown_event\n",
    "    while not shutdown_event.is_set(): \n",
    "        \n",
    "        Motor.Forward(20)\n",
    "        time.sleep(5)\n",
    "        Motor.Brake()\n",
    "        time.sleep(1)\n",
    "        Motor.Backward(20)\n",
    "        time.sleep(5)\n",
    "        Motor.Brake()\n",
    "        time.sleep(1)"
   ]
  },
  {
   "cell_type": "markdown",
   "metadata": {},
   "source": [
    "### 4. The `encoder` function \n",
    "- When the shutdown event is not set, It will run function. \n",
    "- Obtain the encoder value (RPM) from the encoder library \n",
    "- Obtain the distance value from the library \n",
    "- Display all the values obtained line by line \n",
    "- add some delay to the function to prevent overlapping inturrupt when the motor is moving. "
   ]
  },
  {
   "cell_type": "code",
   "execution_count": null,
   "metadata": {},
   "outputs": [],
   "source": [
    "def encoder():\n",
    "    global enc , shutdown_event\n",
    "    while not shutdown_event.is_set():\n",
    "        \n",
    "        Left_enc, Right_enc = enc.encoder()\n",
    "        Left_dist, Right_dist = enc.distance()\n",
    "        print(\"Left Motor: {:.2f}\".format(Left_enc))\n",
    "        print(\"Right Motor: {:.2f}\".format(Right_enc))\n",
    "        print(\"Left Distance: {:.2f}m\".format(Left_dist))\n",
    "        print(\"Right Distance: {:.2f}m\".format(Right_dist))\n",
    "        time.sleep(0.2)\n",
    "    "
   ]
  },
  {
   "cell_type": "markdown",
   "metadata": {},
   "source": [
    "### 5. The `cleanup` function \n",
    "- This function is called when all the shutdown event is set. \n",
    "- It will clean all the GPIO nd stop the motor \n",
    "- It puse all the multithredig process "
   ]
  },
  {
   "cell_type": "code",
   "execution_count": null,
   "metadata": {},
   "outputs": [],
   "source": [
    "def cleanup():\n",
    "    global Motor, enc, shutdown_event\n",
    "\n",
    "    # Set shutdown event\n",
    "    while shutdown_event.set(): \n",
    "        # Wait for threads to finish\n",
    "        Movement_thred.join()\n",
    "        encoder_thred.join()\n",
    "\n",
    "        # Stop motor and encoder\n",
    "        Motor.cleanup()\n",
    "        enc.stop()"
   ]
  },
  {
   "cell_type": "markdown",
   "metadata": {},
   "source": [
    "### 6. Wrapping up\n",
    "- When the prograe was started, run the init() function \n",
    "    - Start the Movement thread with the Movement() function \n",
    "    - Start the encoder thread with the encoder() function \n",
    "    - Start all the thread \n",
    "- When Keyboard Inturrupt is detected (Ctrl + C) terminate the process. "
   ]
  },
  {
   "cell_type": "code",
   "execution_count": null,
   "metadata": {},
   "outputs": [],
   "source": [
    "if __name__ == '__main__':\n",
    "    try: \n",
    "        init()\n",
    "        Movement_thred = threading.Thread(target=Movement)\n",
    "        encoder_thred = threading.Thread(target=encoder)\n",
    "        Movement_thred.start()\n",
    "        encoder_thred.start()\n",
    "        \n",
    "    except KeyboardInterrupt:\n",
    "        print(\"Shutting down\")\n",
    "        cleanup() "
   ]
  }
 ],
 "metadata": {
  "language_info": {
   "name": "python"
  }
 },
 "nbformat": 4,
 "nbformat_minor": 2
}
