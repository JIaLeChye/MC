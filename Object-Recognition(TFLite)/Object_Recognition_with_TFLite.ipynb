{
 "cells": [
  {
   "cell_type": "markdown",
   "metadata": {},
   "source": [
    "# Object Recognition Using Tensorflow Lite with MobilenetV2 Prebuild Model\n",
    "**Full Coding At [Object_Recognition_(TensorFlow_Lite_Edition).py](Object_Recognition_(TensorFlow_Lite_Edition).py)**\n",
    "<br>\n",
    "*Libraries Used:* \n",
    "- tflite_runtime \n",
    "- OpenCV\n",
    "- numpy \n",
    "- Picamera2 \n",
    "- libcamera \n",
    "- os\n",
    "- time "
   ]
  },
  {
   "cell_type": "markdown",
   "metadata": {},
   "source": [
    "## Installing Libraries @ Dependencies \n",
    "- Build-In Libraries \n",
    "    - Picamera2 \n",
    "    - libcamera\n",
    "    - os\n",
    "    - time \n",
    "\n",
    "- User Install Libraries\n",
    "    - tflite_runtime \n",
    "    - OpenCV \n",
    "    - numpy \n",
    "\n",
    "### First, let's install the user install libraries ! \n",
    "1. tflite_runtime \n",
    "    - Follow the link [Tensorflow.org](https://www.tensorflow.org/lite/guide/python)\n",
    "2. OpenCV \n",
    "    - Follow the link [OpenCV.org](https://docs.opencv.org/4.x/d2/de6/tutorial_py_setup_in_ubuntu.html)\n",
    "3. NumPy \n",
    "    - Follow the link [numpy.org](https://numpy.org/install/)\n",
    "\n",
    "\n",
    "### Verify the installed libraries \n",
    "1. tflite_runtime \n",
    "    - In Python File type: <br>\n",
    "    `import tflite_runtime.interpreter as tflite` \n",
    "    - Installation sucess if codeing run without error  \n",
    "2. OpenCV \n",
    "    - In Python File type: <br>\n",
    "    `import cv2` <br>\n",
    "    `print(cv2.__version__)`\n",
    "    - The coding above will print the version of opencv library installed  \n",
    "3. NumPy \n",
    "    - In Python File type: <br>\n",
    "    `import numpy as np`\n",
    "    - Installation sucess if codeing run without error "
   ]
  },
  {
   "cell_type": "markdown",
   "metadata": {},
   "source": [
    "## Downloading The model Files \n",
    "The Object Detection Model used in this script is: MobilenetV2(tflite)\n",
    "Download the object detection Model from github \n",
    "1. Open the terminal in Raspberry Pi \n",
    "2. Type the command bellow\n",
    "- `git clone https://https://github.com/raspberrypi/picamera2`\n",
    "This will download the Model from RaspberryPi's Picamera2 repository "
   ]
  },
  {
   "cell_type": "markdown",
   "metadata": {},
   "source": [
    "## Let's Start Coding ! \n",
    "1. Import all the libraries \n",
    "    - Tensorflow Lite \n",
    "    - OpenCV \n",
    "    - NumPy \n",
    "    - Picamera2 \n",
    "    - libcamera\n",
    "    - os\n",
    "    - time "
   ]
  },
  {
   "cell_type": "code",
   "execution_count": null,
   "metadata": {},
   "outputs": [],
   "source": [
    "## Tensorflow Lite Library\n",
    "import tflite_runtime.interpreter as tflite\n",
    "\n",
    "## For Image processing \n",
    "import cv2\n",
    "import numpy as np\n",
    "\n",
    "## To capture the frames from the camera\n",
    "from picamera2 import Picamera2\n",
    "from libcamera import controls\n",
    "\n",
    "## For validation of the model and label files \n",
    "import os\n",
    "\n",
    "## To get the accurate time \n",
    "import time"
   ]
  },
  {
   "cell_type": "markdown",
   "metadata": {},
   "source": []
  }
 ],
 "metadata": {
  "language_info": {
   "name": "python"
  }
 },
 "nbformat": 4,
 "nbformat_minor": 2
}
