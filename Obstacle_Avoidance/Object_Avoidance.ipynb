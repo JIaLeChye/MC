{
 "cells": [
  {
   "cell_type": "markdown",
   "metadata": {},
   "source": [
    "# Object Avoidance \n",
    "**Full Coding At [Object_Avoidance.py](Object_Avoidance.py)** \n",
    "*Library Used* \n",
    "- Ultrasonic_sens  \n",
    "- PCA9685_MC \n",
    "- Motor_Encoder  \n",
    "- time \n",
    "<br>\n",
    "\n"
   ]
  },
  {
   "cell_type": "markdown",
   "metadata": {},
   "source": [
    "** All the libraries is custom made libraraies thus installation is no needed**\n",
    "- *Ultrasonic_sens* \n",
    "    - Used to obtained all the value of the ultrasonic ranger at once\n",
    "- *PCA9685_MC* \n",
    "    - Used to controll the Motor Direction more easily using Servo Motor HAT \n",
    "- *Motor_Encoder* \n",
    "     - Used to obtained the value of the RPM of the motor (With OLED Function)\n",
    "- *time*\n",
    "    - Used for delay "
   ]
  },
  {
   "cell_type": "markdown",
   "metadata": {},
   "source": [
    "## Let's Start Coding ! \n",
    "### 1. Import all the Libraries \n",
    "- Ultrasonic_sens  \n",
    "- PCA9685_MC \n",
    "- Motor_Encoder  \n",
    "- time "
   ]
  },
  {
   "cell_type": "code",
   "execution_count": null,
   "metadata": {},
   "outputs": [],
   "source": [
    "from Ultrasonic_sens import Ultrasonic \n",
    "from PCA9685_MC import Motor_Controller\n",
    "from Motor_Encoder import Encoder \n",
    "import time \n"
   ]
  },
  {
   "cell_type": "markdown",
   "metadata": {},
   "source": [
    "### 2. Initialise the libraries in the *init* Function "
   ]
  },
  {
   "cell_type": "code",
   "execution_count": null,
   "metadata": {},
   "outputs": [],
   "source": [
    "def init():\n",
    "    global enc, ultrasonic, Motor, Speed, rotation_speed, threshold, min_thresh_dist\n",
    "    isInit = False\n",
    "\n",
    "    if not isInit: \n",
    "        enc = Encoder(ODISPLAY=True)\n",
    "        ultrasonic = Ultrasonic()\n",
    "        Motor = Motor_Controller()\n",
    "        Speed = 20\n",
    "        rotation_speed = 15\n",
    "        threshold = 30 \n",
    "        min_thresh_dist = 10\n",
    "\n",
    "        isInit = True \n",
    "    else:\n",
    "        pass"
   ]
  }
 ],
 "metadata": {
  "language_info": {
   "name": "python"
  }
 },
 "nbformat": 4,
 "nbformat_minor": 2
}
