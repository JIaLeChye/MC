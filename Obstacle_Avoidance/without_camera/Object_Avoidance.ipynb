{
 "cells": [
  {
   "cell_type": "markdown",
   "metadata": {},
   "source": [
    "# Object Avoidance \n",
    "**Full Coding At [Object_Avoidance.py](Object_Avoidance.py)** \n",
    "*Library Used* \n",
    "- Ultrasonic_sens  \n",
    "- PCA9685_MC \n",
    "- Motor_Encoder  \n",
    "- time \n",
    "<br>\n",
    "\n"
   ]
  },
  {
   "cell_type": "markdown",
   "metadata": {},
   "source": [
    "** All the libraries is custom made libraraies thus installation is no needed**\n",
    "- *Ultrasonic_sens* \n",
    "    - Used to obtained all the value of the ultrasonic ranger at once\n",
    "- *PCA9685_MC* \n",
    "    - Used to controll the Motor Direction more easily using Servo Motor HAT \n",
    "- *Motor_Encoder* \n",
    "     - Used to obtained the value of the RPM of the motor (With OLED Function)\n",
    "- *time*\n",
    "    - Used for delay "
   ]
  },
  {
   "cell_type": "markdown",
   "metadata": {},
   "source": [
    "## Let's Start Coding ! \n",
    "### 1. Import all the Libraries \n",
    "- Ultrasonic_sens  \n",
    "- PCA9685_MC \n",
    "- Motor_Encoder  \n",
    "- time "
   ]
  },
  {
   "cell_type": "code",
   "execution_count": null,
   "metadata": {},
   "outputs": [],
   "source": [
    "from Ultrasonic_sens import Ultrasonic \n",
    "from PCA9685_MC import Motor_Controller\n",
    "from Motor_Encoder import Encoder \n",
    "import time \n"
   ]
  },
  {
   "cell_type": "markdown",
   "metadata": {},
   "source": [
    "### 2. Initialise the libraries in the *init* Function \n",
    "- Create global variable so that other function can also access to it. \n",
    "  ```python \n",
    "  global enc, ultrasonic, Motor, Speed, rotation_speed, threshold, min_thresh_dist\n",
    "  ```\n",
    "- Make sure the initaliation process is done \n",
    "  ``` python \n",
    "  isInit = False \n",
    "  ```\n",
    "  \n",
    "- If the initialisation is not **True**(Not be initialise) run the following:\n",
    "  - Initialise the motor encoder library with the **ODISPLAY** enabled \n",
    "  - Initialise the ultrasonic sensors \n",
    "  - Initialise the motor library \n",
    "  - Set the speed at 20 \n",
    "  - set the rotation speed  at 15 \n",
    "  - Set the threshold to 30 \n",
    "  - Set the minimum threshold distance to 10 \n",
    "  - Set the initialation flag to **True**  \n",
    "\n",
    "- If the initialation process is done, skip this function. \n",
    "  "
   ]
  },
  {
   "cell_type": "code",
   "execution_count": null,
   "metadata": {},
   "outputs": [],
   "source": [
    "def init():\n",
    "    global enc, ultrasonic, Motor, Speed, rotation_speed, threshold, min_thresh_dist\n",
    "    isInit = False\n",
    "\n",
    "    if not isInit: \n",
    "        enc = Encoder(ODISPLAY=True)\n",
    "        ultrasonic = Ultrasonic()\n",
    "        Motor = Motor_Controller()\n",
    "        Speed = 20\n",
    "        rotation_speed = 15\n",
    "        threshold = 30 \n",
    "        min_thresh_dist = 10\n",
    "\n",
    "        isInit = True \n",
    "    else:\n",
    "        pass"
   ]
  },
  {
   "cell_type": "markdown",
   "metadata": {},
   "source": [
    "### 3. The *Obstacle Avoid Function* `def obstacle_avoid(left. front. right)` \n",
    "- This is the logic part that wil process the data get from the sensors and determine the diurection of the obstacle. \n",
    "- In this function the function will collect the data from the left, front and right ultrasonic sensor to determine the distance of the obstacle from the sourounding. \n",
    "- Access to the global variables \n",
    "  ``` python\n",
    "  global enc, ultrasonic, Motor, Speed, rotation_speed, threshold, min_thresh_dist\n",
    "  ```\n",
    "- If the value of the fron sensor is less than the given threshold (30) Multiple condition will be triggred. \n",
    "  - If the front value is less than the minimum threshold value, the Car will go backward with the speed of 20 \n",
    "  - if obstacle at the left ensor is less than the threshold value, the car will turn right. \n",
    "  - If the obstacle at the right sensor is less than the threshold value, the car will turn left. \n",
    "  - Else, if the font sensor's  value is less than the threshold value but stil more than the minimum threshold value, the car will reverse backward and avoid the obstacle at the right or left. \n",
    "\n",
    "- only if the value for left sensor is less than the threshold value, but the front value stil have more space\n",
    "  - The car will turn right untill the value is more than the threshold value. \n",
    "\n",
    "- Only if the value for the right sensor is less than the threshold value, but the front value is more than the threshold value. \n",
    "  - The car will turn left until the value of the sensor is more than the threshold value. \n",
    "  \n",
    "- If all the condition above is not meet, the car will proceed forward. \n"
   ]
  },
  {
   "cell_type": "code",
   "execution_count": null,
   "metadata": {},
   "outputs": [],
   "source": [
    "def obstacle_Avoid(left, front, right):\n",
    "    global enc, ultrasonic, Motor, Speed, rotation_speed, threshold, min_thresh_dist\n",
    "    \n",
    "    if front < threshold:\n",
    "        if front <= min_thresh_dist:\n",
    "            Motor.Backward(Speed)\n",
    "            time.sleep(0.1)\n",
    "            Motor.Brake()\n",
    "        elif left < min_thresh_dist and right < min_thresh_dist:\n",
    "            Motor.Backward(Speed)\n",
    "            time.sleep(0.1)\n",
    "            Motor.Brake()\n",
    "        elif left < threshold:\n",
    "            Motor.Clock_Rotate(rotation_speed)\n",
    "            time.sleep(0.5)\n",
    "            Motor.Brake()\n",
    "        elif right < threshold:\n",
    "            Motor.AntiClock_Rotate(rotation_speed)\n",
    "            time.sleep(0.5)\n",
    "            Motor.Brake()\n",
    "        else:\n",
    "            Motor.Backward(Speed)\n",
    "            time.sleep(0.1)\n",
    "            Motor.Brake()\n",
    "    \n",
    "    elif left < threshold:\n",
    "        Motor.Clock_Rotate(rotation_speed)\n",
    "        time.sleep(1)\n",
    "        Motor.Brake()\n",
    "    \n",
    "    elif right < threshold:\n",
    "        Motor.AntiClock_Rotate(rotation_speed)  \n",
    "        time.sleep(1)\n",
    "        Motor.Brake()\n",
    "    \n",
    "    else:\n",
    "        if right > threshold and left > threshold:\n",
    "            Motor.Forward(Speed)\n",
    "        elif right > threshold:\n",
    "            Motor.Clock_Rotate(rotation_speed)\n",
    "            time.sleep(0.1)\n",
    "            Motor.Brake()\n",
    "        elif left > threshold:\n",
    "            Motor.AntiClock_Rotate(rotation_speed)\n",
    "            time.sleep(0.1)\n",
    "            Motor.Brake()\n"
   ]
  },
  {
   "cell_type": "markdown",
   "metadata": {},
   "source": [
    "### The `main` function \n",
    "- Get the global variables by `global` \n",
    "    ``` python\n",
    "    global enc, ultrasonic, Motor, Speed, rotation_speed, threshold, min_thresh_dist\n",
    "    ```\n",
    "\n",
    "- Coll for the `init()` function to makesure all theh libraries are initialised. \n",
    "\n",
    "- `While True` is a technique to create a loop in python. \n",
    "    - Obtain the encoder value. if the **ODISPLAY** is true, the encoder value wil be display on the OLED. \n",
    "    - Display the value of the left, front and right ultrasonic sensor \n",
    "    - To make sure the variable that holds the sensor's value is valid, the if statem,ent will checkis the value is None or a valud value.\n",
    "        ```python \n",
    "        if (left and front and right is not None) \n",
    "        ``` \n",
    "    - If the value from the sensor is not vali *(None)* \n",
    "        - The Car will brake and wait for the value of the sensor to become valid. \n",
    "    - This step is to prevent the car move without detecting the obstacle from the enviroment. \n",
    "    "
   ]
  },
  {
   "cell_type": "code",
   "execution_count": null,
   "metadata": {},
   "outputs": [],
   "source": [
    "def main(): \n",
    "    global enc, ultrasonic, Motor, Speed, rotation_speed, threshold, min_thresh_dist\n",
    "    init()\n",
    "    while True:\n",
    "        enc.encoder()\n",
    "        left, front, right = ultrasonic.distances()\n",
    "        time.sleep(0.1)\n",
    "        if (left and front and right is not None): \n",
    "            print(\"Left: {:.2f} \".format(left)) \n",
    "            print(\"Front: {:.2f}\".format(front))\n",
    "            print(\"Right: {:.2f}\".format(right)) \n",
    "            print(\" \")\n",
    "            obstacle_Avoid(left, front, right)\n",
    "            time.sleep(0.1)\n",
    "        else:\n",
    "            print(\"No data received\")\n",
    "            Motor.Brake()\n",
    "            time.sleep(1)\n",
    "        "
   ]
  }
 ],
 "metadata": {
  "language_info": {
   "name": "python"
  }
 },
 "nbformat": 4,
 "nbformat_minor": 2
}
