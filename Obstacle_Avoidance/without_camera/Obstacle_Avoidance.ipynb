{
 "cells": [
  {
   "cell_type": "markdown",
   "metadata": {},
   "source": [
    "# Object Avoidance \n",
    "**Full Coding At [Obstacle_Avoidance.py](Obstacle_Avoidance.py)** \n",
    "<br>\n",
    "This is the documentation for Obstacle Avoidance (Without Camera)\n",
    "<br>\n",
    "\n",
    "*Library Used*\n",
    "- Ultrasonic_sens  \n",
    "- RPi_Robot_Hat_Lib\n",
    "- time \n",
    "<br>\n",
    "\n"
   ]
  },
  {
   "cell_type": "markdown",
   "metadata": {},
   "source": [
    "**All the libraries are custom made libraraies thus installation is no needed**\n",
    "- *Ultrasonic_sens* \n",
    "    - Used to obtained all the value of the ultrasonic ranger at once\n",
    "- *RPi_Robot_Hat_Lib* \n",
    "    - Used to controll the Motor Direction more easily using Robot HAT \n",
    "- *time*\n",
    "    - Used for delay "
   ]
  },
  {
   "cell_type": "markdown",
   "metadata": {},
   "source": [
    "## Let's Start Coding ! \n",
    "### 1. Import all the Libraries \n",
    "- Ultrasonic_sens  \n",
    "- RPi_Robot_Hat_Lib\n",
    "- time "
   ]
  },
  {
   "cell_type": "code",
   "execution_count": null,
   "metadata": {},
   "outputs": [],
   "source": [
    "from Ultrasonic_sens import Ultrasonic \n",
    "from RPi_Robot_Hat_Lib import RobotController\n",
    "import time \n"
   ]
  },
  {
   "cell_type": "markdown",
   "metadata": {},
   "source": [
    "### 2. Initialise the libraries and define global variables \n",
    "  \n",
    "\n",
    "- Initialise the ultrasonic sensors \n",
    "- Initialise the RobotController library \n",
    "- Set the speed at 40\n",
    "- set the rotation speed  at 30\n",
    "- Set the threshold to 30 \n",
    "- Set the minimum threshold distance to 10 \n",
    "\n",
    "  "
   ]
  },
  {
   "cell_type": "code",
   "execution_count": null,
   "metadata": {},
   "outputs": [],
   "source": [
    "ultrasonic = Ultrasonic()\n",
    "Motor = RobotController()\n",
    "Speed = 40\n",
    "rotation_speed = 30\n",
    "threshold = 20\n",
    "min_thresh_dist = 10 \n"
   ]
  },
  {
   "cell_type": "markdown",
   "metadata": {},
   "source": [
    "### 3. The *Obstacle Avoid Function* `def obstacle_avoid(left. front. right)` \n",
    "- This is the logic part that wil process the data get from the sensors and determine the diurection of the obstacle. \n",
    "- In this function the function will collect the data from the left, front and right ultrasonic sensor to determine the distance of the obstacle from the sourounding. \n",
    "- If the value of the fron sensor is less than the given threshold (30) Multiple condition will be triggred. \n",
    "  - If the front value is less than the minimum threshold value (10), the Car will go backward with the speed of 40\n",
    "  - If the left and right sensor are less than the minumum vlue, the Car will Reverse untill the values re more than minimum threshold value (10)\n",
    "  - If obstacle at the left ensor is less than the threshold value, the car will turn right. \n",
    "  - If the obstacle at the right sensor is less than the threshold value, the car will turn left. \n",
    "  - Else, the Car will brake. \n",
    "\n",
    "- Else if the left sensor is less than the threshold value but the front sensor still have some sapce,  the car will turn Right\n",
    "- Else if the  right sensor is less than the threshold value but the front sensor still have some space, the car will turn left \n",
    "- **The two else if logic above is trying to make sure the car is in the center if two obstacle*\n",
    "\n",
    "- If the left and the right sensor are all less than threshold but the foront sensor is more than the threshold value, the care will proceed forward.  \n",
    "  \n",
    "- If all the condition above is not meet, the car will brake "
   ]
  },
  {
   "cell_type": "code",
   "execution_count": null,
   "metadata": {},
   "outputs": [],
   "source": [
    "def obstacle_Avoid(left, front, right):\n",
    "    \n",
    "    if front < threshold:\n",
    "        if front <= min_thresh_dist:\n",
    "            print(\"Motion: Backward\")\n",
    "            Motor.Backward(Speed)\n",
    "            time.sleep(0.1)\n",
    "            # Motor.Brake()\n",
    "        elif left < min_thresh_dist and right < min_thresh_dist:\n",
    "            print(\"Motion: Backward\")\n",
    "            Motor.Backward(Speed)\n",
    "            time.sleep(0.1)\n",
    "            # Motor.Brake()\n",
    "        elif left < threshold:\n",
    "            print(\"Motion: Rotate Right\")\n",
    "            Motor.move(speed=0, turn=rotation_speed)\n",
    "            time.sleep(0.5)\n",
    "            # Motor.Brake()\n",
    "        elif right < threshold:\n",
    "            print(\"Motion: Rotate Left\")\n",
    "            Motor.move(speed=0, turn=-rotation_speed)\n",
    "            time.sleep(0.5)\n",
    "            # Motor.Brake()\n",
    "        else:\n",
    "            print(\"Motion: Backward\")\n",
    "            Motor.Backward(Speed)\n",
    "            time.sleep(0.1)\n",
    "            # Motor.Brake()\n",
    "    \n",
    "    elif left < threshold:\n",
    "        print(\"Motion: Rotate Right\")\n",
    "        Motor.move(speed=0, turn=rotation_speed)\n",
    "        time.sleep(1)\n",
    "        # Motor.Brake()\n",
    "    \n",
    "    elif right < threshold:\n",
    "        print(\"Motion: Rotate Left\")\n",
    "        Motor.move(speed=0, turn=-rotation_speed)  \n",
    "        time.sleep(1)\n",
    "        # Motor.Brake()\n",
    "    \n",
    "    elif right > threshold and left > threshold and front > threshold :\n",
    "            print(\"Motion: Forward\")\n",
    "            Motor.Forward(Speed)\n",
    "            time.sleep(0.1)\n",
    "            # Motor.Brake()\n",
    "    else:\n",
    "        print(\"Motion: Brake\")\n",
    "        print(\"Unknown Condition Found \")\n",
    "        Motor.Brake()"
   ]
  },
  {
   "cell_type": "markdown",
   "metadata": {},
   "source": [
    "### 4. The `main` function \n",
    "\n",
    "- `While True` is a technique to create a loop in python. \n",
    "    - Obtain the encoder value. if the **ODISPLAY** is true, the encoder value wil be display on the OLED. \n",
    "    - Display the value of the left, front and right ultrasonic sensor \n",
    "    - To make sure the variable that holds the sensor's value is valid, the if statem,ent will checkis the value is None or a valud value.\n",
    "        ```python \n",
    "        if (left and front and right is not None) \n",
    "        ``` \n",
    "    - If the value from the sensor is not valid *(None)* \n",
    "        - The Car will brake and wait for the value of the sensor to become valid (not None). \n",
    "    - This step is to prevent the car moving without detecting the obstacle from the enviroment. \n",
    "    "
   ]
  },
  {
   "cell_type": "code",
   "execution_count": null,
   "metadata": {},
   "outputs": [],
   "source": [
    "def main():  \n",
    "    while True: \n",
    "        # enc.encoder()\n",
    "        left, front, right = ultrasonic.distances()\n",
    "        time.sleep(0.1)\n",
    "        if left is not None and front is not None and right is not None: \n",
    "            print(\"Left: {:.2f}\".format(left)) \n",
    "            print(\"Front: {:.2f}\".format(front))\n",
    "            print(\"Right: {:.2f}\".format(right)) \n",
    "            print(\" \")\n",
    "            obstacle_Avoid(left, front, right)\n",
    "            time.sleep(0.1)\n",
    "        else:\n",
    "            print(\"No data received\")\n",
    "            Motor.Brake()\n",
    "            time.sleep(1)\n"
   ]
  },
  {
   "cell_type": "markdown",
   "metadata": {},
   "source": [
    "### 5. Wraping Up \n",
    "- If the program is started, run the `main()` function \n",
    "    ```py\n",
    "    try:\n",
    "        if __name__ == \"__main__\":\n",
    "            main()\n",
    "    ```\n",
    "- Keyboard Inturrupt is detected (Ctrl + C) \n",
    "    ```py \n",
    "    except KeyboardInterrupt:\n",
    "        Motor.Brake()\n",
    "        print(\"Program Terminated\")\n",
    "    ```\n",
    "- When the programe ends (Finally)\n",
    "    ```py\n",
    "    finally:\n",
    "        Motor.cleanup()\n",
    "        print(\"Program Terminated\")\n",
    "    ```\n",
    "\n"
   ]
  },
  {
   "cell_type": "code",
   "execution_count": null,
   "metadata": {},
   "outputs": [],
   "source": [
    "try:\n",
    "    if __name__ == \"__main__\":\n",
    "        main()\n",
    "\n",
    "except KeyboardInterrupt:\n",
    "    Motor.Brake()\n",
    "    # enc.stop()\n",
    "    print(\"Program Terminated\")\n",
    "finally:\n",
    "    # enc.stop()\n",
    "    Motor.cleanup()\n",
    "    print(\"Program Terminated\")\n",
    "\n"
   ]
  }
 ],
 "metadata": {
  "language_info": {
   "name": "python"
  }
 },
 "nbformat": 4,
 "nbformat_minor": 2
}
