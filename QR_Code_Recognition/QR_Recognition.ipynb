{
 "cells": [
  {
   "cell_type": "markdown",
   "metadata": {},
   "source": [
    "# QR Code Recognition using OpenCV \n",
    "**Full Codiig available at [QR_Code_Recognition.py](QR_Code_Recognition.py)**\n",
    "<br>\n",
    "This is the documantetion for QR Code Recognition \n",
    "\n",
    "***Librarues Used In The Script*** \n",
    "- Picamera2 \n",
    "- libcamera \n",
    "- OpenCV \n",
    "- time \n",
    "- RPi_Robot_Hat_Lib"
   ]
  },
  {
   "cell_type": "markdown",
   "metadata": {},
   "source": [
    "## Installing Libraries \n",
    "1. OpenCV [OpenCV.org](https://docs.opencv.org/4.x/d2/de6/tutorial_py_setup_in_ubuntu.html)\n",
    "    - In the terminal type `pip install opencv-python` \n",
    "    - In a Python File type: <br>\n",
    "    `import cv2` <br>\n",
    "    `print(cv2.__version__)`\n",
    "    - The coding above will print the version of opencv library installed  "
   ]
  },
  {
   "cell_type": "markdown",
   "metadata": {},
   "source": [
    "## Let's Start Coding !  \n",
    "### 1. Import the required libraries \n",
    "- OpenCV\n",
    "- Picamera2 \n",
    "- libcamera \n",
    "- time \n",
    "- RPi_Robot_Hat_Lib"
   ]
  },
  {
   "cell_type": "code",
   "execution_count": null,
   "metadata": {},
   "outputs": [],
   "source": [
    "import cv2 \n",
    "from picamera2 import Picamera2 \n",
    "from libcamera import controls\n",
    "import time \n",
    "from RPi_Robot_Hat_Lib import RobotController\n"
   ]
  },
  {
   "cell_type": "markdown",
   "metadata": {},
   "source": [
    "### 2. Configure the camera \n",
    "- Initialise RobotController Library \n",
    "- Define channel for vertical and horizontal sevo PanTilt HAT \n",
    "- Set the position of the camera (Using PanTilt HAT)\n",
    "- Width: 640 \n",
    "- height: 480 \n",
    "- Autofocus: ON **(This function is only available for Raspberry Pi camera Module 3 and above)**"
   ]
  },
  {
   "cell_type": "code",
   "execution_count": null,
   "metadata": {},
   "outputs": [],
   "source": [
    "Motor = RobotController()\n",
    "vertical = 2\n",
    "horizontal = 1\n",
    "Motor.servoPulse(horizontal, 80)\n",
    "Motor.servoPulse(vertical, 90)\n",
    "\n",
    "frame_width = 640 \n",
    "frame_height = 480 \n",
    "cam = Picamera2()\n",
    "cam.configure(cam.create_preview_configuration(main={\"format\": 'XRGB8888', \"size\": (frame_width, frame_height)})) \n",
    "cam.start()\n",
    "cam.set_controls({\"AfMode\":controls.AfModeEnum.Continuous})"
   ]
  },
  {
   "cell_type": "markdown",
   "metadata": {},
   "source": [
    "### 3. Initialise the detector \n",
    "- Initialise the detection module form OpenCV library "
   ]
  },
  {
   "cell_type": "code",
   "execution_count": null,
   "metadata": {},
   "outputs": [],
   "source": [
    "detector = cv2.QRCodeDetector()"
   ]
  },
  {
   "cell_type": "markdown",
   "metadata": {},
   "source": [
    "### 4. Initialise the variables for FPS (Frame Per Second) counter \n",
    "- Get the start time from the time library \n",
    "- Initialise the FPS variable to 0. "
   ]
  },
  {
   "cell_type": "code",
   "execution_count": null,
   "metadata": {},
   "outputs": [],
   "source": [
    "t_start = time.time()\n",
    "fps = 0"
   ]
  },
  {
   "cell_type": "markdown",
   "metadata": {},
   "source": [
    "### 5.The While True Loop \n",
    "- The while true loop holsd the codes that will loop forever when the programe starts.\n",
    "- Obtain the capture image from the camera using the Picamera2 Library. \n",
    "    ```py\n",
    "    frame = cam.capture_array()\n",
    "    ```\n",
    "- Extract the data of the QR Code from the capture image \n",
    "- Extract the coordinates of the QR Code Detected.\n",
    "    ```py\n",
    "    data, bbox, _ = detector.detectAndDecode(frame)\n",
    "    ```\n",
    "- Calculate the FPS of the camera stream \n",
    "    ```py\n",
    "    fps +=1\n",
    "    mfps = fps/(time.time() - t_start)\n",
    "    ``` \n",
    "- If the QR Code is detected,  draw a bounding box around the QR Code. \n",
    "- Display the data extracted from the QR Code. \n",
    "    ```py\n",
    "    if(bbox is not None):\n",
    "        for i in range(len(bbox)):\n",
    "            \n",
    "            pt1 = (int(bbox[i][0][0]), int(bbox[i][0][1]))\n",
    "            pt2 = (int(bbox[(i + 1) % len(bbox)][0][0]), int(bbox[(i + 1) % len(bbox)][0][1]))\n",
    "            \n",
    "            cv2.line(frame, pt1, pt2, color=(255,\n",
    "                     0, 0), thickness=2)\n",
    "            \n",
    "        cv2.putText(frame, data, (int(bbox[0][0][0]), int(bbox[0][0][1]) - 10), cv2.FONT_HERSHEY_SIMPLEX,\n",
    "                    1, (255, 250, 120), 2)\n",
    "    else:\n",
    "        print(\"No Data Found\")\n",
    "    ```\n",
    "- Display the FPS calculated for the camera stream \n",
    "- Display the camera stream will all the anotation on a window. \n",
    "    ```py\n",
    "    cv2.putText(frame, \"FPS : \" + str(int(mfps)), (10, 20), cv2.FONT_HERSHEY_SIMPLEX, 0.5, (0, 255, 0), 1)\n",
    "    cv2.imshow(\"code detector\", frame)\n",
    "    ```\n",
    "- If the button **q** is pressed, close the program \n",
    "    ```py\n",
    "     if cv2.waitKey(1) == ord(\"q\"):\n",
    "        break\n",
    "    ```"
   ]
  },
  {
   "cell_type": "code",
   "execution_count": null,
   "metadata": {},
   "outputs": [],
   "source": [
    "while True :\n",
    "\n",
    "    frame = cam.capture_array()\n",
    "    data, bbox, _ = detector.detectAndDecode(frame)\n",
    "    fps +=1\n",
    "    mfps = fps/(time.time() - t_start)\n",
    "\n",
    "    if(bbox is not None):\n",
    "        for i in range(len(bbox)):\n",
    "            \n",
    "            pt1 = (int(bbox[i][0][0]), int(bbox[i][0][1]))\n",
    "            pt2 = (int(bbox[(i + 1) % len(bbox)][0][0]), int(bbox[(i + 1) % len(bbox)][0][1]))\n",
    "            \n",
    "            cv2.line(frame, pt1, pt2, color=(255,\n",
    "                     0, 0), thickness=2)\n",
    "            \n",
    "        cv2.putText(frame, data, (int(bbox[0][0][0]), int(bbox[0][0][1]) - 10), cv2.FONT_HERSHEY_SIMPLEX,\n",
    "                    1, (255, 250, 120), 2)\n",
    "\n",
    "        \n",
    "        \n",
    "    else:\n",
    "        print(\"No Data Found\")\n",
    "\n",
    "    cv2.putText(frame, \"FPS : \" + str(int(mfps)), (10, 20), cv2.FONT_HERSHEY_SIMPLEX, 0.5, (0, 255, 0), 1)\n",
    "    cv2.imshow(\"code detector\", frame)\n",
    "\n",
    "    if cv2.waitKey(1) == ord(\"q\"):\n",
    "        break "
   ]
  },
  {
   "cell_type": "markdown",
   "metadata": {},
   "source": [
    "### 6. Wrapping things up  \n",
    "- Stop the camera \n",
    "- Reset the servo positon to default \n",
    "- using OpenCV to destroy all the windows oopened by the opencv when the progrom runs. "
   ]
  },
  {
   "cell_type": "code",
   "execution_count": null,
   "metadata": {},
   "outputs": [],
   "source": [
    "cam.stop()\n",
    "Motor.cleanup()\n",
    "cv2.destroyAllWindows() "
   ]
  }
 ],
 "metadata": {
  "language_info": {
   "name": "python"
  }
 },
 "nbformat": 4,
 "nbformat_minor": 2
}
